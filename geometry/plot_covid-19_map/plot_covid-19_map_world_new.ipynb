{
 "cells": [
  {
   "cell_type": "code",
   "execution_count": null,
   "metadata": {},
   "outputs": [],
   "source": [
    "import geopandas as gpd"
   ]
  },
  {
   "cell_type": "code",
   "execution_count": null,
   "metadata": {},
   "outputs": [],
   "source": [
    "map_wd = gpd.read_file('../world_map/Igismap', layer='TM_WORLD_BORDERS-0.3')"
   ]
  },
  {
   "cell_type": "code",
   "execution_count": null,
   "metadata": {},
   "outputs": [],
   "source": [
    "map_wd.head()"
   ]
  },
  {
   "cell_type": "code",
   "execution_count": null,
   "metadata": {},
   "outputs": [],
   "source": [
    "import matplotlib.pyplot as plt"
   ]
  },
  {
   "cell_type": "code",
   "execution_count": null,
   "metadata": {
    "scrolled": false
   },
   "outputs": [],
   "source": [
    "fig, ax = plt.subplots(1, figsize=(20,15))\n",
    "map_wd.plot(linewidth=0.2, edgecolor='black',ax=ax)"
   ]
  },
  {
   "cell_type": "code",
   "execution_count": null,
   "metadata": {},
   "outputs": [],
   "source": [
    "sorted(map_wd.loc[:,'name'].to_list())"
   ]
  },
  {
   "cell_type": "code",
   "execution_count": null,
   "metadata": {},
   "outputs": [],
   "source": [
    "map_cn = map_wd.loc[map_wd['name']=='China', :]\n",
    "fig, ax = plt.subplots()\n",
    "map_cn.plot(linewidth=0.2, edgecolor='black', ax=ax)"
   ]
  },
  {
   "cell_type": "code",
   "execution_count": null,
   "metadata": {},
   "outputs": [],
   "source": [
    "map_cn_tw = map_wd.loc[map_wd['name']=='Taiwan', :]\n",
    "fig, ax = plt.subplots()\n",
    "map_cn_tw.plot(linewidth=0.2, edgecolor='black', ax=ax)"
   ]
  },
  {
   "cell_type": "code",
   "execution_count": null,
   "metadata": {
    "scrolled": true
   },
   "outputs": [],
   "source": [
    "map_cn.head()"
   ]
  },
  {
   "cell_type": "code",
   "execution_count": null,
   "metadata": {},
   "outputs": [],
   "source": [
    "map_cn_tw.head()"
   ]
  },
  {
   "cell_type": "code",
   "execution_count": null,
   "metadata": {},
   "outputs": [],
   "source": [
    "from shapely.geometry import MultiPolygon \n",
    "map_cn['geometry'].iloc[0] = MultiPolygon(list(map_cn['geometry'].iloc[0].geoms) + list(map_cn_tw['geometry'].iloc[0].geoms))\n",
    "\n",
    "fig, ax = plt.subplots()\n",
    "map_cn.plot(linewidth=0.2, edgecolor='black', ax=ax)"
   ]
  },
  {
   "cell_type": "code",
   "execution_count": null,
   "metadata": {},
   "outputs": [],
   "source": [
    "map_wd = map_wd.drop(map_wd.loc[map_wd['name']=='Taiwan', :].index)\n",
    "map_wd.loc[map_wd['name']=='China',:] = map_cn"
   ]
  },
  {
   "cell_type": "code",
   "execution_count": null,
   "metadata": {},
   "outputs": [],
   "source": [
    "fig, ax = plt.subplots(1, figsize=(20,15))\n",
    "map_wd.plot(linewidth=0.2, edgecolor='black',ax=ax)"
   ]
  },
  {
   "cell_type": "code",
   "execution_count": null,
   "metadata": {},
   "outputs": [],
   "source": [
    "import pandas as pd"
   ]
  },
  {
   "cell_type": "code",
   "execution_count": null,
   "metadata": {},
   "outputs": [],
   "source": [
    "# https://github.com/CSSEGISandData/COVID-19\n",
    "covid_19_confirmed = pd.read_csv('../COVID-19_data/csse_covid_19_time_series/time_series_covid19_confirmed_global.csv')\n",
    "covid_19_confirmed.loc[(covid_19_confirmed['Country/Region'] == 'Taiwan*'),'Province/State']='Taiwan'\n",
    "covid_19_confirmed.loc[(covid_19_confirmed['Country/Region'] == 'Taiwan*'),'Country/Region']='China'"
   ]
  },
  {
   "cell_type": "code",
   "execution_count": null,
   "metadata": {},
   "outputs": [],
   "source": [
    "covid_19_confirmed.head()"
   ]
  },
  {
   "cell_type": "code",
   "execution_count": null,
   "metadata": {},
   "outputs": [],
   "source": [
    "list(covid_19_confirmed['Country/Region'])"
   ]
  },
  {
   "cell_type": "code",
   "execution_count": null,
   "metadata": {},
   "outputs": [],
   "source": [
    "covid_19_countries = set()\n",
    "\n",
    "for country in covid_19_confirmed['Country/Region']:\n",
    "    covid_19_countries.add(country)"
   ]
  },
  {
   "cell_type": "code",
   "execution_count": null,
   "metadata": {},
   "outputs": [],
   "source": [
    "len(covid_19_countries)"
   ]
  },
  {
   "cell_type": "code",
   "execution_count": null,
   "metadata": {
    "scrolled": true
   },
   "outputs": [],
   "source": [
    "covid_19_countries - set(map_wd.loc[:,'name'])"
   ]
  },
  {
   "cell_type": "code",
   "execution_count": null,
   "metadata": {},
   "outputs": [],
   "source": [
    "rename_cvoid_19_countries = {\n",
    "    'Brunei': 'Brunei Darussalam',\n",
    "    'Cabo Verde': 'Capo Verde',\n",
    "    'Congo (Brazzaville)': 'Congo',\n",
    "    'Congo (Kinshasa)': 'Democratic Republic of the Congo',\n",
    "    'Czechia': 'Czech Republic',\n",
    "    'Eswatini': 'Swaziland',\n",
    "    'Iran': 'Iran (Islamic Republic of)',\n",
    "    'Korea, South': 'Korea, Republic of',\n",
    "    'Laos': 'Lao People\\'s Democratic Republic',\n",
    "    'Libya': 'Libyan Arab Jamahiriya',\n",
    "    'Moldova': 'Republic of Moldova',\n",
    "    'North Macedonia': 'The former Yugoslav Republic of Macedonia',\n",
    "    'Syria': 'Syrian Arab Republic',\n",
    "    'Tanzania': 'United Republic of Tanzania',\n",
    "    'US': 'United States',\n",
    "    'Vietnam': 'Viet Nam'\n",
    "}"
   ]
  },
  {
   "cell_type": "code",
   "execution_count": null,
   "metadata": {},
   "outputs": [],
   "source": [
    "for k in rename_cvoid_19_countries:\n",
    "    assert(covid_19_confirmed.loc[covid_19_confirmed['Country/Region']==k, 'Country/Region'].size == 1)\n",
    "    \n",
    "    covid_19_confirmed.loc[covid_19_confirmed['Country/Region']==k, 'Country/Region'] = rename_cvoid_19_countries[k]"
   ]
  },
  {
   "cell_type": "code",
   "execution_count": null,
   "metadata": {},
   "outputs": [],
   "source": [
    "covid_19_countries = set()\n",
    "\n",
    "for country in covid_19_confirmed['Country/Region']:\n",
    "    covid_19_countries.add(country)"
   ]
  },
  {
   "cell_type": "code",
   "execution_count": null,
   "metadata": {},
   "outputs": [],
   "source": [
    "covid_19_countries - set(map_wd.loc[:,'name'])"
   ]
  },
  {
   "cell_type": "code",
   "execution_count": null,
   "metadata": {},
   "outputs": [],
   "source": [
    "covid_19_countries_in_map = list(covid_19_countries & set(map_wd.loc[:,'name']))"
   ]
  },
  {
   "cell_type": "code",
   "execution_count": null,
   "metadata": {},
   "outputs": [],
   "source": [
    "len(covid_19_countries_in_map)"
   ]
  },
  {
   "cell_type": "code",
   "execution_count": null,
   "metadata": {},
   "outputs": [],
   "source": [
    "sample_dates = covid_19_confirmed.columns[4:]\n",
    "ds = dict()\n",
    "for country in covid_19_countries_in_map:\n",
    "    ds[country] = dict()\n",
    "    for date in sample_dates:\n",
    "        ds[country][date] = 0\n",
    "        \n",
    "for row in covid_19_confirmed.iterrows():\n",
    "    name = row[1]['Country/Region']\n",
    "\n",
    "    if name not in ds:\n",
    "        print('\\'{0}\\' not in map'.format(name))\n",
    "        continue\n",
    "    \n",
    "    for date in sample_dates:\n",
    "        ds[name][date] = sum(covid_19_confirmed.loc[covid_19_confirmed['Country/Region']==name, date])\n",
    "    "
   ]
  },
  {
   "cell_type": "code",
   "execution_count": null,
   "metadata": {},
   "outputs": [],
   "source": [
    "from pandas import DataFrame\n",
    "\n",
    "dd = dict()\n",
    "dd['name'] = covid_19_countries_in_map\n",
    "\n",
    "for date in sample_dates:\n",
    "    dd[date] = list([0] * len(dd['name']))\n",
    "    \n",
    "    for i in range(len(dd['name'])):\n",
    "        dd[date][i] = ds[dd['name'][i]][date]\n",
    "\n",
    "covid_19_confirmed_in_map = DataFrame(data=dd)"
   ]
  },
  {
   "cell_type": "code",
   "execution_count": null,
   "metadata": {},
   "outputs": [],
   "source": [
    "covid_19_confirmed_in_map.loc[covid_19_confirmed_in_map['name']=='China']"
   ]
  },
  {
   "cell_type": "code",
   "execution_count": null,
   "metadata": {},
   "outputs": [],
   "source": [
    "from datetime import datetime\n",
    "import matplotlib.colors as colors\n",
    "import matplotlib.cm as cm\n",
    "import matplotlib.patches as mpatches\n",
    "import numpy as np\n",
    "from shapely.geometry import Point\n",
    "import mapclassify as mc\n",
    "from matplotlib_scalebar.scalebar import ScaleBar\n",
    "\n",
    "import matplotlib.pyplot as plt\n",
    "plt.rcParams['font.family'] = 'sans-serif'  \n",
    "plt.rcParams['font.sans-serif'] = 'SimSun,Times New Roman'# 中文设置成宋体，除此之外的字体设置成New Roman  \n",
    "\n",
    "def plot_map(ds, output_fig=False):\n",
    "    d = datetime.strptime(ds, '%Y-%m-%d')\n",
    "    sample_date = d.strftime(\"%#m/%#d/%y\")\n",
    "    \n",
    "    df = covid_19_confirmed_in_map.loc[:, ['name', sample_date]]\n",
    "    \n",
    "    map_with_covid_19 = map_wd.set_index('name').join(df.set_index('name'))\n",
    "    \n",
    "    vmin = 0\n",
    "    vmax = 1e+7\n",
    "    \n",
    "    fig, ax = plt.subplots(1, figsize=(15,10))\n",
    "    ax.axis('off')\n",
    "    ax.set_title(ds)\n",
    "    \n",
    "    #bounds = np.array([0, 1, 1e+1, 1e+2, 1e+3, 1e+4, 1e+5, 1e+6, 1e+7])\n",
    "    #norm = colors.BoundaryNorm(boundaries=bounds, ncolors=256)\n",
    "    \n",
    "    #map_with_covid_19.plot(column=sample_date, cmap='Reds', linewidth=0.2, edgecolor='black', legend=True, ax=ax, norm=norm, vmin=vmin, vmax=vmax)\n",
    "    \n",
    "    bs = [0, 9, 99, 999, 9999, 99999, 999999, 1e+10]\n",
    "    ax = map_with_covid_19.plot( ax=ax,\n",
    "                                 column=sample_date,\n",
    "                                 cmap='Reds',\n",
    "                                 legend=True,\n",
    "                                 scheme='UserDefined',\n",
    "                                 classification_kwds={\n",
    "                                     'bins': bs\n",
    "                                 },\n",
    "                                 legend_kwds={\n",
    "                                     'loc': 'lower left',\n",
    "                                     'title': '图例（单位：人）',\n",
    "                                     'shadow': True\n",
    "                                 },\n",
    "                                 vmin=0,\n",
    "                                 vmax=len(bs)-1,\n",
    "                                 edgecolor='black',\n",
    "                                 linewidth=0.2\n",
    "                                )\n",
    "    \n",
    "    handles, labels = ax.get_legend_handles_labels()\n",
    "\n",
    "    cmap = plt.get_cmap('Reds')\n",
    "\n",
    "    # 得到mapclassify中的数据分层点\n",
    "    bp = mc.UserDefined(map_with_covid_19[sample_date], bins=bs)\n",
    "    bins = bp.bins\n",
    "\n",
    "    labels = ['0'] + [f'{int(bins[_])+1} - {int(bins[_+1])}' for _ in range(0, len(bins) - 2)] + [f'≥{int(bins[-2])+1}']\n",
    "    # 制作图例映射对象列表\n",
    "    LegendElement = [ mpatches.Patch(facecolor=cmap(_/(len(labels)-1)), label=labels[_]) for _ in range(len(labels))]\n",
    "\n",
    "    # 将制作好的图例映射对象列表导入legend()中，并配置相关参数\n",
    "    ax.legend(handles = LegendElement,\n",
    "              loc='lower left',\n",
    "              fontsize=14,\n",
    "              title='图例（单位：人）',\n",
    "              title_fontsize=14,\n",
    "              framealpha=0, # 去除边框\n",
    "              borderpad=0.6)\n",
    "\n",
    "    ax.axis('off')\n",
    "    \n",
    "    if output_fig:\n",
    "        plt.savefig('c:/tmp/fig/World_{0}.png'.format(ds))\n",
    "  "
   ]
  },
  {
   "cell_type": "code",
   "execution_count": null,
   "metadata": {},
   "outputs": [],
   "source": [
    "plot_map('2020-1-22', True)"
   ]
  },
  {
   "cell_type": "code",
   "execution_count": null,
   "metadata": {},
   "outputs": [],
   "source": [
    "plot_map('2020-2-22', True)"
   ]
  },
  {
   "cell_type": "code",
   "execution_count": null,
   "metadata": {},
   "outputs": [],
   "source": [
    "plot_map('2020-3-22', True)"
   ]
  },
  {
   "cell_type": "code",
   "execution_count": null,
   "metadata": {},
   "outputs": [],
   "source": [
    "plot_map('2020-4-22', True)"
   ]
  },
  {
   "cell_type": "code",
   "execution_count": null,
   "metadata": {},
   "outputs": [],
   "source": [
    "plot_map('2020-5-22', True)"
   ]
  },
  {
   "cell_type": "code",
   "execution_count": null,
   "metadata": {},
   "outputs": [],
   "source": [
    "plot_map('2020-6-22', True)"
   ]
  },
  {
   "cell_type": "code",
   "execution_count": null,
   "metadata": {},
   "outputs": [],
   "source": [
    "plot_map('2020-7-22', True)"
   ]
  },
  {
   "cell_type": "code",
   "execution_count": null,
   "metadata": {},
   "outputs": [],
   "source": [
    "plot_map('2020-8-22', True)"
   ]
  },
  {
   "cell_type": "code",
   "execution_count": null,
   "metadata": {},
   "outputs": [],
   "source": [
    "plot_map('2020-9-22', True)"
   ]
  },
  {
   "cell_type": "code",
   "execution_count": null,
   "metadata": {},
   "outputs": [],
   "source": []
  }
 ],
 "metadata": {
  "kernelspec": {
   "display_name": "Python 3",
   "language": "python",
   "name": "python3"
  },
  "language_info": {
   "codemirror_mode": {
    "name": "ipython",
    "version": 3
   },
   "file_extension": ".py",
   "mimetype": "text/x-python",
   "name": "python",
   "nbconvert_exporter": "python",
   "pygments_lexer": "ipython3",
   "version": "3.7.9"
  }
 },
 "nbformat": 4,
 "nbformat_minor": 4
}
