{
 "cells": [
  {
   "cell_type": "code",
   "execution_count": null,
   "metadata": {},
   "outputs": [],
   "source": [
    "import geopandas as gpd"
   ]
  },
  {
   "cell_type": "code",
   "execution_count": null,
   "metadata": {},
   "outputs": [],
   "source": [
    "# 参考 https://github.com/CNFeffery/DataScienceStudyNotes\n",
    "#     （数据科学学习手札79）基于geopandas的空间数据分析——深入浅出分层设色\n",
    "\n",
    "map_cn = gpd.read_file('zip://../map_of_China/china-shapefiles.zip!china-shapefiles',\n",
    "                       layer='china',\n",
    "                       encoding='utf-8')\n",
    "\n",
    "# 由于每行数据是单独的面，因此按照其省份列OWNER融合\n",
    "map_cn = map_cn.dissolve(by='OWNER').reset_index(drop=False)\n",
    "\n",
    "map_jiuduanxian = gpd.read_file('zip://../map_of_China/china-shapefiles.zip!china-shapefiles',\n",
    "                           layer='china_nine_dotted_line',\n",
    "                           encoding='utf-8')"
   ]
  },
  {
   "cell_type": "code",
   "execution_count": null,
   "metadata": {},
   "outputs": [],
   "source": [
    "map_cn.head()"
   ]
  },
  {
   "cell_type": "code",
   "execution_count": null,
   "metadata": {},
   "outputs": [],
   "source": [
    "map_jiuduanxian.head()"
   ]
  },
  {
   "cell_type": "code",
   "execution_count": null,
   "metadata": {
    "scrolled": true
   },
   "outputs": [],
   "source": [
    "map_cn.query('not FCNAME.isnull()')"
   ]
  },
  {
   "cell_type": "code",
   "execution_count": null,
   "metadata": {},
   "outputs": [],
   "source": [
    "sheng_map = dict()\n",
    "for row in map_cn.iterrows():\n",
    "    sheng_name = row[1]['OWNER']\n",
    "    if type(sheng_name) is str:  # 有省名称的数据行\n",
    "        sheng_map[sheng_name] = row[1]\n",
    "        \n",
    "print('\\n'.join(sheng_map.keys()))\n",
    "print(len(sheng_map))"
   ]
  },
  {
   "cell_type": "code",
   "execution_count": null,
   "metadata": {},
   "outputs": [],
   "source": [
    "import pandas as pd"
   ]
  },
  {
   "cell_type": "code",
   "execution_count": null,
   "metadata": {},
   "outputs": [],
   "source": [
    "# https://github.com/CSSEGISandData/COVID-19\n",
    "covid_19_confirmed = pd.read_csv('../COVID-19_data/csse_covid_19_time_series/time_series_covid19_confirmed_global.csv')"
   ]
  },
  {
   "cell_type": "code",
   "execution_count": null,
   "metadata": {},
   "outputs": [],
   "source": [
    "covid_19_confirmed.head()"
   ]
  },
  {
   "cell_type": "code",
   "execution_count": null,
   "metadata": {},
   "outputs": [],
   "source": [
    "covid_19_confirmed.query('`Country/Region`==\"China\"')"
   ]
  },
  {
   "cell_type": "code",
   "execution_count": null,
   "metadata": {},
   "outputs": [],
   "source": [
    "covid_19_confirmed.head()\n",
    "\n",
    "covid_19_confirmed.loc[(covid_19_confirmed['Country/Region'] == 'Taiwan*'),'Province/State']='Taiwan'\n",
    "covid_19_confirmed.loc[(covid_19_confirmed['Country/Region'] == 'Taiwan*'),'Country/Region']='China'\n",
    "\n",
    "covid_19_confirmed[covid_19_confirmed['Country/Region'] == 'China']"
   ]
  },
  {
   "cell_type": "code",
   "execution_count": null,
   "metadata": {},
   "outputs": [],
   "source": [
    "sheng_en_to_cn = {\n",
    "    'Beijing': '北京市',\n",
    "    'Tianjin': '天津市',\n",
    "    'Hebei': '河北省',\n",
    "    'Shanxi': '山西省',\n",
    "    'Inner Mongolia': '内蒙古自治区',\n",
    "    'Liaoning': '辽宁省',\n",
    "    'Jilin': '吉林省',\n",
    "    'Heilongjiang': '黑龙江省',\n",
    "    'Shanghai': '上海市',\n",
    "    'Jiangsu': '江苏省',\n",
    "    'Zhejiang': '浙江省',\n",
    "    'Anhui': '安徽省',\n",
    "    'Fujian': '福建省',\n",
    "    'Jiangxi': '江西省',\n",
    "    'Shandong': '山东省',\n",
    "    'Henan': '河南省',\n",
    "    'Hubei': '湖北省',\n",
    "    'Hunan': '湖南省',\n",
    "    'Guangdong': '广东省',\n",
    "    'Guangxi': '广西壮族自治区',\n",
    "    'Hainan': '海南省',\n",
    "    'Chongqing': '重庆市',\n",
    "    'Sichuan': '四川省',\n",
    "    'Guizhou': '贵州省',\n",
    "    'Yunnan': '云南省',\n",
    "    'Tibet': '西藏自治区',\n",
    "    'Shaanxi': '陕西省',\n",
    "    'Gansu': '甘肃省',\n",
    "    'Qinghai': '青海省',\n",
    "    'Ningxia': '宁夏回族自治区',\n",
    "    'Xinjiang': '新疆维吾尔自治区',\n",
    "    'Taiwan': '台湾省',\n",
    "    'Hong Kong': '香港特别行政区',\n",
    "    'Macau': '澳门特别行政区'\n",
    "}\n",
    "\n",
    "assert(len(sheng_en_to_cn) == len(sheng_map))\n",
    "assert(len(sheng_en_to_cn) == 34)\n",
    "for k in sheng_en_to_cn:\n",
    "    assert(sheng_en_to_cn[k] in sheng_map)"
   ]
  },
  {
   "cell_type": "code",
   "execution_count": null,
   "metadata": {},
   "outputs": [],
   "source": [
    "covid_19_confirmed_China = covid_19_confirmed[covid_19_confirmed['Country/Region'] == 'China']"
   ]
  },
  {
   "cell_type": "code",
   "execution_count": null,
   "metadata": {},
   "outputs": [],
   "source": [
    "for row in covid_19_confirmed_China.iterrows():\n",
    "    name = row[1]['Province/State']\n",
    "    assert(name in sheng_en_to_cn)"
   ]
  },
  {
   "cell_type": "code",
   "execution_count": null,
   "metadata": {},
   "outputs": [],
   "source": [
    "from datetime import datetime\n",
    "import matplotlib.colors as colors\n",
    "import matplotlib.cm as cm\n",
    "import matplotlib.patches as mpatches\n",
    "import numpy as np\n",
    "from shapely.geometry import Point\n",
    "import mapclassify as mc\n",
    "from matplotlib_scalebar.scalebar import ScaleBar\n",
    "\n",
    "import matplotlib.pyplot as plt\n",
    "plt.rcParams['font.family'] = 'sans-serif'  \n",
    "plt.rcParams['font.sans-serif'] = 'SimSun,Times New Roman'# 中文设置成宋体，除此之外的字体设置成New Roman  \n",
    "\n",
    "# 定义CRS\n",
    "albers_proj = '+proj=aea +lat_1=25 +lat_2=47 +lon_0=105'\n",
    "\n",
    "def set_attatch_plot_range(ax):\n",
    "    y1, y2 = ax.get_ylim()\n",
    "    h = y2 - y1\n",
    "    x1, x2 = ax.get_xlim()\n",
    "    w = x2 - x1\n",
    "    ax.set_ylim(y1, y1 + (h * 0.4))\n",
    "    ax.set_xlim(x1 + (w * 0.55), x2 - (w * 0.05))\n",
    "\n",
    "def plot_map_attach(fig, bs, map_with_covid_19, sample_date):\n",
    "    # 副图框绘制\n",
    "    ax = fig.add_axes([0.8, 0.18, 0.10, 0.15]) # left, bottom, width, height\n",
    "    \n",
    "    # 去除刻度\n",
    "    ax.set_xticks([])\n",
    "    ax.set_yticks([])\n",
    "    \n",
    "    map_with_covid_19.to_crs(albers_proj).plot( ax=ax,\n",
    "                                                column=sample_date,\n",
    "                                                cmap='Reds',\n",
    "                                                scheme='UserDefined',\n",
    "                                                classification_kwds={\n",
    "                                                    'bins': bs\n",
    "                                                },\n",
    "                                                vmin=0,\n",
    "                                                vmax=len(bs)-1,\n",
    "                                                edgecolor='black',\n",
    "                                                linewidth=0.2\n",
    "                                               )\n",
    "\n",
    "    map_jiuduanxian.geometry.to_crs(albers_proj).plot(ax=ax,\n",
    "                                                      edgecolor='black',\n",
    "                                                      linewidth=2,\n",
    "                                                      alpha=0.5)\n",
    "    \n",
    "    set_attatch_plot_range(ax)\n",
    "\n",
    "def set_plot_range(ax):\n",
    "    y1, y2 = ax.get_ylim()\n",
    "    h = y2 - y1\n",
    "    ax.set_ylim(y2 - (h * 0.75), y2)\n",
    "    \n",
    "def plot_scalebar(ax):\n",
    "    #scalebar = ScaleBar(dx=1*10**-3, units='km', length_fraction=0.1, height_fraction=0.001,\n",
    "    scalebar = ScaleBar(dx=1, length_fraction=0.1, height_fraction=0.005,\n",
    "                    font_properties={'family': 'Times New Roman', 'weight': 'normal', 'size': 12},\n",
    "                    location='upper right', sep=1, frameon=False)\n",
    "    \n",
    "    ax.add_artist(scalebar)\n",
    "\n",
    "def plot_compass(ax):\n",
    "    x, y, arrow_length = 0.42, 0.09, 0.07\n",
    "    ax.annotate('N', xy=(x, y), xytext=(x, y-arrow_length),\n",
    "                arrowprops=dict(facecolor='black', width=4, headwidth=7),\n",
    "                ha='center', va='center', fontsize=10,\n",
    "                xycoords=ax.transAxes)\n",
    "    \n",
    "def plot_map(ds, output_fig=True):\n",
    "    d = datetime.strptime(ds, '%Y-%m-%d')\n",
    "    sample_date = d.strftime(\"%#m/%#d/%y\")\n",
    "\n",
    "    df = covid_19_confirmed_China.loc[:, ['Province/State', sample_date]]\n",
    "    df['cn_name'] = [sheng_en_to_cn[w[1]['Province/State']] for w in df.iterrows()]\n",
    "\n",
    "    map_with_covid_19 = map_cn.set_index('OWNER').join(df.set_index('cn_name'))\n",
    "\n",
    "    fig, ax = plt.subplots(figsize=(10, 10))\n",
    "\n",
    "    bs = [0, 9, 49, 99, 999, 9999, 1e+10]\n",
    "    ax = map_with_covid_19.to_crs(albers_proj).plot( ax=ax,\n",
    "                                                     column=sample_date,\n",
    "                                                     cmap='Reds',\n",
    "                                                     legend=True,\n",
    "                                                     scheme='UserDefined',\n",
    "                                                     classification_kwds={\n",
    "                                                         'bins': bs\n",
    "                                                     },\n",
    "                                                     legend_kwds={\n",
    "                                                         'loc': 'lower left',\n",
    "                                                         'title': '图例（单位：人）',\n",
    "                                                         'shadow': True\n",
    "                                                     },\n",
    "                                                     vmin=0,\n",
    "                                                     vmax=len(bs)-1,\n",
    "                                                     edgecolor='black',\n",
    "                                                     linewidth=0.2\n",
    "                                                   )\n",
    "\n",
    "    ax = map_jiuduanxian.geometry.to_crs(albers_proj).plot(ax=ax,\n",
    "                                                           edgecolor='grey',\n",
    "                                                           linewidth=3,\n",
    "                                                           alpha=0.4)\n",
    "\n",
    "    handles, labels = ax.get_legend_handles_labels()\n",
    "\n",
    "    cmap = plt.get_cmap('Reds')\n",
    "\n",
    "    # 得到mapclassify中的数据分层点\n",
    "    bp = mc.UserDefined(map_with_covid_19[sample_date], bins=bs)\n",
    "    bins = bp.bins\n",
    "\n",
    "    labels = ['0'] + [f'{int(bins[_])+1} - {int(bins[_+1])}' for _ in range(0, len(bins) - 2)] + [f'≥{int(bins[-2])+1}']\n",
    "    # 制作图例映射对象列表\n",
    "    LegendElement = [ mpatches.Patch(facecolor=cmap(_/(len(labels)-1)), label=labels[_]) for _ in range(len(labels))]\n",
    "\n",
    "    # 将制作好的图例映射对象列表导入legend()中，并配置相关参数\n",
    "    ax.legend(handles = LegendElement,\n",
    "              loc='lower left',\n",
    "              fontsize=14,\n",
    "              title='图例（单位：人）',\n",
    "              title_fontsize=14,\n",
    "              framealpha=0, # 去除边框\n",
    "              borderpad=0.6)\n",
    "\n",
    "    ax.axis('off')\n",
    "    \n",
    "    set_plot_range(ax)\n",
    "\n",
    "    plot_map_attach(fig=fig,\n",
    "                    bs=bs,\n",
    "                    map_with_covid_19=map_with_covid_19,\n",
    "                    sample_date=sample_date)\n",
    "    \n",
    "    plot_scalebar(ax)\n",
    "    # plot_compass(ax)\n",
    "    \n",
    "    if output_fig:\n",
    "        plt.savefig('c:/tmp/fig/China_{0}.png'.format(ds))"
   ]
  },
  {
   "cell_type": "code",
   "execution_count": null,
   "metadata": {
    "scrolled": false
   },
   "outputs": [],
   "source": [
    "plot_map('2020-1-22', True)"
   ]
  },
  {
   "cell_type": "code",
   "execution_count": null,
   "metadata": {},
   "outputs": [],
   "source": [
    "plot_map('2020-2-22', True)"
   ]
  },
  {
   "cell_type": "code",
   "execution_count": null,
   "metadata": {},
   "outputs": [],
   "source": [
    "plot_map('2020-3-22', True)"
   ]
  },
  {
   "cell_type": "code",
   "execution_count": null,
   "metadata": {},
   "outputs": [],
   "source": [
    "plot_map('2020-4-22', True)"
   ]
  },
  {
   "cell_type": "code",
   "execution_count": null,
   "metadata": {},
   "outputs": [],
   "source": [
    "plot_map('2020-5-22', True)"
   ]
  },
  {
   "cell_type": "code",
   "execution_count": null,
   "metadata": {},
   "outputs": [],
   "source": [
    "plot_map('2020-6-22', True)"
   ]
  },
  {
   "cell_type": "code",
   "execution_count": null,
   "metadata": {},
   "outputs": [],
   "source": [
    "plot_map('2020-7-22', True)"
   ]
  },
  {
   "cell_type": "code",
   "execution_count": null,
   "metadata": {},
   "outputs": [],
   "source": [
    "plot_map('2020-8-22', True)"
   ]
  },
  {
   "cell_type": "code",
   "execution_count": null,
   "metadata": {},
   "outputs": [],
   "source": [
    "plot_map('2020-9-22', True)"
   ]
  },
  {
   "cell_type": "code",
   "execution_count": null,
   "metadata": {},
   "outputs": [],
   "source": []
  }
 ],
 "metadata": {
  "kernelspec": {
   "display_name": "Python 3",
   "language": "python",
   "name": "python3"
  },
  "language_info": {
   "codemirror_mode": {
    "name": "ipython",
    "version": 3
   },
   "file_extension": ".py",
   "mimetype": "text/x-python",
   "name": "python",
   "nbconvert_exporter": "python",
   "pygments_lexer": "ipython3",
   "version": "3.7.9"
  }
 },
 "nbformat": 4,
 "nbformat_minor": 4
}
