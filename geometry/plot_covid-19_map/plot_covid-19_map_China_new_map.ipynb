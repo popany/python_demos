{
 "cells": [
  {
   "cell_type": "code",
   "execution_count": null,
   "metadata": {},
   "outputs": [],
   "source": [
    "import geopandas as gpd"
   ]
  },
  {
   "cell_type": "code",
   "execution_count": null,
   "metadata": {},
   "outputs": [],
   "source": [
    "# 参考 https://github.com/CNFeffery/DataScienceStudyNotes\n",
    "#     （数据科学学习手札79）基于geopandas的空间数据分析——深入浅出分层设色\n",
    "\n",
    "map_cn = gpd.read_file('zip://../map_of_China/china-shapefiles.zip!china-shapefiles',\n",
    "                       layer='china',\n",
    "                       encoding='utf-8')\n",
    "\n",
    "# 由于每行数据是单独的面，因此按照其省份列OWNER融合\n",
    "map_cn = map_cn.dissolve(by='OWNER').reset_index(drop=False)\n",
    "\n",
    "map_jiuduanxian = gpd.read_file('zip://../map_of_China/china-shapefiles.zip!china-shapefiles',\n",
    "                           layer='china_nine_dotted_line',\n",
    "                           encoding='utf-8')\n",
    "\n",
    "# 定义CRS\n",
    "albers_proj = '+proj=aea +lat_1=25 +lat_2=47 +lon_0=105'"
   ]
  },
  {
   "cell_type": "code",
   "execution_count": null,
   "metadata": {},
   "outputs": [],
   "source": [
    "map_cn.head()"
   ]
  },
  {
   "cell_type": "code",
   "execution_count": null,
   "metadata": {},
   "outputs": [],
   "source": [
    "map_jiuduanxian.head()"
   ]
  },
  {
   "cell_type": "code",
   "execution_count": null,
   "metadata": {
    "scrolled": true
   },
   "outputs": [],
   "source": [
    "map_cn.query('not FCNAME.isnull()')"
   ]
  },
  {
   "cell_type": "code",
   "execution_count": null,
   "metadata": {},
   "outputs": [],
   "source": [
    "sheng_map = dict()\n",
    "for row in map_cn.iterrows():\n",
    "    sheng_name = row[1]['OWNER']\n",
    "    if type(sheng_name) is str:  # 有省名称的数据行\n",
    "        sheng_map[sheng_name] = row[1]\n",
    "        \n",
    "print('\\n'.join(sheng_map.keys()))\n",
    "print(len(sheng_map))"
   ]
  },
  {
   "cell_type": "code",
   "execution_count": null,
   "metadata": {},
   "outputs": [],
   "source": [
    "import pandas as pd"
   ]
  },
  {
   "cell_type": "code",
   "execution_count": null,
   "metadata": {},
   "outputs": [],
   "source": [
    "# https://github.com/CSSEGISandData/COVID-19\n",
    "covid_19_confirmed = pd.read_csv('../COVID-19_data/csse_covid_19_time_series/time_series_covid19_confirmed_global.csv')"
   ]
  },
  {
   "cell_type": "code",
   "execution_count": null,
   "metadata": {},
   "outputs": [],
   "source": [
    "covid_19_confirmed.head()"
   ]
  },
  {
   "cell_type": "code",
   "execution_count": null,
   "metadata": {},
   "outputs": [],
   "source": [
    "covid_19_confirmed.query('`Country/Region`==\"China\"')"
   ]
  },
  {
   "cell_type": "code",
   "execution_count": null,
   "metadata": {},
   "outputs": [],
   "source": [
    "covid_19_confirmed.head()\n",
    "\n",
    "covid_19_confirmed.loc[(covid_19_confirmed['Country/Region'] == 'Taiwan*'),'Province/State']='Taiwan'\n",
    "covid_19_confirmed.loc[(covid_19_confirmed['Country/Region'] == 'Taiwan*'),'Country/Region']='China'\n",
    "\n",
    "covid_19_confirmed[covid_19_confirmed['Country/Region'] == 'China']"
   ]
  },
  {
   "cell_type": "code",
   "execution_count": null,
   "metadata": {},
   "outputs": [],
   "source": [
    "sheng_en_to_cn = {\n",
    "    'Beijing': '北京市',\n",
    "    'Tianjin': '天津市',\n",
    "    'Hebei': '河北省',\n",
    "    'Shanxi': '山西省',\n",
    "    'Inner Mongolia': '内蒙古自治区',\n",
    "    'Liaoning': '辽宁省',\n",
    "    'Jilin': '吉林省',\n",
    "    'Heilongjiang': '黑龙江省',\n",
    "    'Shanghai': '上海市',\n",
    "    'Jiangsu': '江苏省',\n",
    "    'Zhejiang': '浙江省',\n",
    "    'Anhui': '安徽省',\n",
    "    'Fujian': '福建省',\n",
    "    'Jiangxi': '江西省',\n",
    "    'Shandong': '山东省',\n",
    "    'Henan': '河南省',\n",
    "    'Hubei': '湖北省',\n",
    "    'Hunan': '湖南省',\n",
    "    'Guangdong': '广东省',\n",
    "    'Guangxi': '广西壮族自治区',\n",
    "    'Hainan': '海南省',\n",
    "    'Chongqing': '重庆市',\n",
    "    'Sichuan': '四川省',\n",
    "    'Guizhou': '贵州省',\n",
    "    'Yunnan': '云南省',\n",
    "    'Tibet': '西藏自治区',\n",
    "    'Shaanxi': '陕西省',\n",
    "    'Gansu': '甘肃省',\n",
    "    'Qinghai': '青海省',\n",
    "    'Ningxia': '宁夏回族自治区',\n",
    "    'Xinjiang': '新疆维吾尔自治区',\n",
    "    'Taiwan': '台湾省',\n",
    "    'Hong Kong': '香港特别行政区',\n",
    "    'Macau': '澳门特别行政区'\n",
    "}\n",
    "\n",
    "assert(len(sheng_en_to_cn) == len(sheng_map))\n",
    "assert(len(sheng_en_to_cn) == 34)\n",
    "for k in sheng_en_to_cn:\n",
    "    assert(sheng_en_to_cn[k] in sheng_map)"
   ]
  },
  {
   "cell_type": "code",
   "execution_count": null,
   "metadata": {},
   "outputs": [],
   "source": [
    "covid_19_confirmed_China = covid_19_confirmed[covid_19_confirmed['Country/Region'] == 'China']"
   ]
  },
  {
   "cell_type": "code",
   "execution_count": null,
   "metadata": {},
   "outputs": [],
   "source": [
    "for row in covid_19_confirmed_China.iterrows():\n",
    "    name = row[1]['Province/State']\n",
    "    assert(name in sheng_en_to_cn)"
   ]
  },
  {
   "cell_type": "code",
   "execution_count": null,
   "metadata": {},
   "outputs": [],
   "source": [
    "from datetime import datetime\n",
    "import matplotlib.colors as colors\n",
    "import matplotlib.cm as cm\n",
    "import matplotlib.patches as mpatches\n",
    "import numpy as np\n",
    "from shapely.geometry import Point\n",
    "import mapclassify as mc\n",
    "\n",
    "import matplotlib.pyplot as plt\n",
    "plt.rcParams['font.family'] = 'sans-serif'  \n",
    "plt.rcParams['font.sans-serif'] = 'SimSun,Times New Roman'# 中文设置成宋体，除此之外的字体设置成New Roman  \n",
    "\n",
    "def plot_map_test(ds, output_fig=True):\n",
    "    d = datetime.strptime(ds, '%Y-%m-%d')\n",
    "    sample_date = d.strftime(\"%#m/%#d/%y\")\n",
    "\n",
    "    df = covid_19_confirmed_China.loc[:, ['Province/State', sample_date]]\n",
    "    df['cn_name'] = [sheng_en_to_cn[w[1]['Province/State']] for w in df.iterrows()]\n",
    "\n",
    "    map_with_covid_19 = map_cn.set_index('OWNER').join(df.set_index('cn_name'))\n",
    "\n",
    "    fig, ax = plt.subplots(figsize=(10, 10))\n",
    "\n",
    "    bs = [0, 9, 49, 99, 999, 9999, 1e+10]\n",
    "    ax = map_with_covid_19.to_crs(albers_proj).plot( ax=ax,\n",
    "                                                     column=sample_date,\n",
    "                                                     cmap='Reds',\n",
    "                                                     legend=True,\n",
    "                                                     scheme='UserDefined',\n",
    "                                                     classification_kwds={\n",
    "                                                         'bins': bs\n",
    "                                                     },\n",
    "                                                     legend_kwds={\n",
    "                                                         'loc': 'lower left',\n",
    "                                                         'title': '确诊人数（单位：人）',\n",
    "                                                         'shadow': True\n",
    "                                                     },\n",
    "                                                     vmin=0,\n",
    "                                                     vmax=6,\n",
    "                                                     edgecolor='black',\n",
    "                                                     linewidth=0.2\n",
    "                                                   )\n",
    "\n",
    "    ax = map_jiuduanxian.geometry.to_crs(albers_proj).plot(ax=ax,\n",
    "                                                           edgecolor='grey',\n",
    "                                                           linewidth=3,\n",
    "                                                           alpha=0.4)\n",
    "\n",
    "    handles, labels = ax.get_legend_handles_labels()\n",
    "\n",
    "    cmap = plt.get_cmap('Reds')\n",
    "\n",
    "    # 得到mapclassify中的数据分层点\n",
    "    bp = mc.UserDefined(map_with_covid_19[sample_date], bins=bs)\n",
    "    bins = bp.bins\n",
    "\n",
    "    labels = ['0'] + [f'{int(bins[_])+1} - {int(bins[_+1])}' for _ in range(0, len(bins) - 2)] + [f'≥{int(bins[-2])+1}']\n",
    "    # 制作图例映射对象列表\n",
    "    LegendElement = [ mpatches.Patch(facecolor=cmap(_/(len(labels)-1)), label=labels[_]) for _ in range(len(labels))]\n",
    "\n",
    "    # 将制作好的图例映射对象列表导入legend()中，并配置相关参数\n",
    "    ax.legend(handles = LegendElement, loc='lower left', fontsize=10, title='确诊人数（单位：人）', shadow=True, borderpad=0.6)\n",
    "\n",
    "    ax.axis('off')\n",
    "    "
   ]
  },
  {
   "cell_type": "code",
   "execution_count": null,
   "metadata": {},
   "outputs": [],
   "source": [
    "plot_map_test('2020-1-22', True)"
   ]
  },
  {
   "cell_type": "code",
   "execution_count": null,
   "metadata": {},
   "outputs": [],
   "source": [
    "plot_map_test('2020-3-22', True)"
   ]
  },
  {
   "cell_type": "code",
   "execution_count": null,
   "metadata": {
    "scrolled": false
   },
   "outputs": [],
   "source": [
    "plot_map_legend('2020-4-22', True)"
   ]
  },
  {
   "cell_type": "code",
   "execution_count": null,
   "metadata": {
    "scrolled": false
   },
   "outputs": [],
   "source": [
    "plot_map('2020-1-22', True)"
   ]
  },
  {
   "cell_type": "code",
   "execution_count": null,
   "metadata": {},
   "outputs": [],
   "source": [
    "plot_map('2020-2-22', True)"
   ]
  },
  {
   "cell_type": "code",
   "execution_count": null,
   "metadata": {},
   "outputs": [],
   "source": [
    "plot_map('2020-3-22', True)"
   ]
  },
  {
   "cell_type": "code",
   "execution_count": null,
   "metadata": {},
   "outputs": [],
   "source": [
    "plot_map('2020-4-22', True)"
   ]
  },
  {
   "cell_type": "code",
   "execution_count": null,
   "metadata": {},
   "outputs": [],
   "source": [
    "plot_map('2020-5-22', True)"
   ]
  },
  {
   "cell_type": "code",
   "execution_count": null,
   "metadata": {},
   "outputs": [],
   "source": [
    "plot_map('2020-6-22', True)"
   ]
  },
  {
   "cell_type": "code",
   "execution_count": null,
   "metadata": {},
   "outputs": [],
   "source": [
    "plot_map('2020-7-22', True)"
   ]
  },
  {
   "cell_type": "code",
   "execution_count": null,
   "metadata": {},
   "outputs": [],
   "source": [
    "plot_map('2020-8-22', True)"
   ]
  },
  {
   "cell_type": "code",
   "execution_count": null,
   "metadata": {},
   "outputs": [],
   "source": [
    "plot_map('2020-9-22', True)"
   ]
  }
 ],
 "metadata": {
  "kernelspec": {
   "display_name": "Python 3",
   "language": "python",
   "name": "python3"
  },
  "language_info": {
   "codemirror_mode": {
    "name": "ipython",
    "version": 3
   },
   "file_extension": ".py",
   "mimetype": "text/x-python",
   "name": "python",
   "nbconvert_exporter": "python",
   "pygments_lexer": "ipython3",
   "version": "3.7.9"
  }
 },
 "nbformat": 4,
 "nbformat_minor": 4
}
