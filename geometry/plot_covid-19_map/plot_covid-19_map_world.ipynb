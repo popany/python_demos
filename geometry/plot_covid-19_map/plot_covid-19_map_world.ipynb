{
 "cells": [
  {
   "cell_type": "code",
   "execution_count": null,
   "metadata": {},
   "outputs": [],
   "source": [
    "import geopandas as gpd"
   ]
  },
  {
   "cell_type": "code",
   "execution_count": null,
   "metadata": {},
   "outputs": [],
   "source": [
    "map_wd = gpd.read_file('../world_map/Igismap/TM_WORLD_BORDERS-0.3.shp')"
   ]
  },
  {
   "cell_type": "code",
   "execution_count": null,
   "metadata": {},
   "outputs": [],
   "source": [
    "map_wd.head()"
   ]
  },
  {
   "cell_type": "code",
   "execution_count": null,
   "metadata": {},
   "outputs": [],
   "source": [
    "import matplotlib.pyplot as plt"
   ]
  },
  {
   "cell_type": "code",
   "execution_count": null,
   "metadata": {
    "scrolled": false
   },
   "outputs": [],
   "source": [
    "fig, ax = plt.subplots(1, figsize=(20,15))\n",
    "fig = map_wd.plot(linewidth=0.2, edgecolor='black',ax=ax)"
   ]
  },
  {
   "cell_type": "code",
   "execution_count": null,
   "metadata": {},
   "outputs": [],
   "source": [
    "sorted(map_wd.loc[:,'name'].to_list())"
   ]
  },
  {
   "cell_type": "code",
   "execution_count": null,
   "metadata": {},
   "outputs": [],
   "source": [
    "map_cn = map_wd.loc[map_wd['name']=='China', :]\n",
    "fig, ax = plt.subplots()\n",
    "fig = map_cn.plot(linewidth=0.2, edgecolor='black', ax=ax)"
   ]
  },
  {
   "cell_type": "code",
   "execution_count": null,
   "metadata": {},
   "outputs": [],
   "source": [
    "map_cn_tw = map_wd.loc[map_wd['name']=='Taiwan', :]\n",
    "fig, ax = plt.subplots()\n",
    "fig = map_cn_tw.plot(linewidth=0.2, edgecolor='black', ax=ax)"
   ]
  },
  {
   "cell_type": "code",
   "execution_count": null,
   "metadata": {
    "scrolled": true
   },
   "outputs": [],
   "source": [
    "map_cn.head()"
   ]
  },
  {
   "cell_type": "code",
   "execution_count": null,
   "metadata": {},
   "outputs": [],
   "source": [
    "map_cn_tw.head()"
   ]
  },
  {
   "cell_type": "code",
   "execution_count": null,
   "metadata": {},
   "outputs": [],
   "source": [
    "from shapely.geometry import MultiPolygon \n",
    "map_cn['geometry'].iloc[0] = MultiPolygon(list(map_cn['geometry'].iloc[0].geoms) + list(map_cn_tw['geometry'].iloc[0].geoms))\n",
    "\n",
    "fig, ax = plt.subplots()\n",
    "fig = map_cn.plot(linewidth=0.2, edgecolor='black', ax=ax)"
   ]
  },
  {
   "cell_type": "code",
   "execution_count": null,
   "metadata": {},
   "outputs": [],
   "source": [
    "map_wd = map_wd.drop(map_wd.loc[map_wd['name']=='Taiwan', :].index)\n",
    "map_wd.loc[map_wd['name']=='China',:] = map_cn"
   ]
  },
  {
   "cell_type": "code",
   "execution_count": null,
   "metadata": {},
   "outputs": [],
   "source": [
    "fig, ax = plt.subplots(1, figsize=(20,15))\n",
    "fig = map_wd.plot(linewidth=0.2, edgecolor='black',ax=ax)"
   ]
  },
  {
   "cell_type": "code",
   "execution_count": null,
   "metadata": {},
   "outputs": [],
   "source": [
    "import pandas as pd"
   ]
  },
  {
   "cell_type": "code",
   "execution_count": null,
   "metadata": {},
   "outputs": [],
   "source": [
    "# https://github.com/CSSEGISandData/COVID-19\n",
    "covid_19_confirmed = pd.read_csv('../COVID-19_data/csse_covid_19_time_series/time_series_covid19_confirmed_global.csv')\n",
    "covid_19_confirmed.loc[(covid_19_confirmed['Country/Region'] == 'Taiwan*'),'Province/State']='Taiwan'\n",
    "covid_19_confirmed.loc[(covid_19_confirmed['Country/Region'] == 'Taiwan*'),'Country/Region']='China'"
   ]
  },
  {
   "cell_type": "code",
   "execution_count": null,
   "metadata": {},
   "outputs": [],
   "source": [
    "covid_19_confirmed.head()"
   ]
  },
  {
   "cell_type": "code",
   "execution_count": null,
   "metadata": {},
   "outputs": [],
   "source": [
    "list(covid_19_confirmed['Country/Region'])"
   ]
  },
  {
   "cell_type": "code",
   "execution_count": null,
   "metadata": {},
   "outputs": [],
   "source": [
    "covid_19_countries = set()\n",
    "\n",
    "for country in covid_19_confirmed['Country/Region']:\n",
    "    covid_19_countries.add(country)"
   ]
  },
  {
   "cell_type": "code",
   "execution_count": null,
   "metadata": {},
   "outputs": [],
   "source": [
    "len(covid_19_countries)"
   ]
  },
  {
   "cell_type": "code",
   "execution_count": null,
   "metadata": {
    "scrolled": true
   },
   "outputs": [],
   "source": [
    "covid_19_countries - set(map_wd.loc[:,'name'])"
   ]
  },
  {
   "cell_type": "code",
   "execution_count": null,
   "metadata": {},
   "outputs": [],
   "source": [
    "rename_cvoid_19_countries = {\n",
    "    'Brunei': 'Brunei Darussalam',\n",
    "    'Cabo Verde': 'Capo Verde',\n",
    "    'Congo (Brazzaville)': 'Congo',\n",
    "    'Congo (Kinshasa)': 'Democratic Republic of the Congo',\n",
    "    'Czechia': 'Czech Republic',\n",
    "    'Eswatini': 'Swaziland',\n",
    "    'Iran': 'Iran (Islamic Republic of)',\n",
    "    'Korea, South': 'Korea, Republic of',\n",
    "    'Laos': 'Lao People\\'s Democratic Republic',\n",
    "    'Libya': 'Libyan Arab Jamahiriya',\n",
    "    'Moldova': 'Republic of Moldova',\n",
    "    'North Macedonia': 'The former Yugoslav Republic of Macedonia',\n",
    "    'Syria': 'Syrian Arab Republic',\n",
    "    'Tanzania': 'United Republic of Tanzania',\n",
    "    'US': 'United States',\n",
    "    'Vietnam': 'Viet Nam'\n",
    "}"
   ]
  },
  {
   "cell_type": "code",
   "execution_count": null,
   "metadata": {},
   "outputs": [],
   "source": [
    "for k in rename_cvoid_19_countries:\n",
    "    assert(covid_19_confirmed.loc[covid_19_confirmed['Country/Region']==k, 'Country/Region'].size == 1)\n",
    "    \n",
    "    covid_19_confirmed.loc[covid_19_confirmed['Country/Region']==k, 'Country/Region'] = rename_cvoid_19_countries[k]"
   ]
  },
  {
   "cell_type": "code",
   "execution_count": null,
   "metadata": {},
   "outputs": [],
   "source": [
    "covid_19_countries = set()\n",
    "\n",
    "for country in covid_19_confirmed['Country/Region']:\n",
    "    covid_19_countries.add(country)"
   ]
  },
  {
   "cell_type": "code",
   "execution_count": null,
   "metadata": {},
   "outputs": [],
   "source": [
    "covid_19_countries - set(map_wd.loc[:,'name'])"
   ]
  },
  {
   "cell_type": "code",
   "execution_count": null,
   "metadata": {},
   "outputs": [],
   "source": [
    "covid_19_countries_in_map = list(covid_19_countries & set(map_wd.loc[:,'name']))"
   ]
  },
  {
   "cell_type": "code",
   "execution_count": null,
   "metadata": {},
   "outputs": [],
   "source": [
    "len(covid_19_countries_in_map)"
   ]
  },
  {
   "cell_type": "code",
   "execution_count": null,
   "metadata": {},
   "outputs": [],
   "source": [
    "sample_dates = covid_19_confirmed.columns[4:]\n",
    "ds = dict()\n",
    "for country in covid_19_countries_in_map:\n",
    "    ds[country] = dict()\n",
    "    for date in sample_dates:\n",
    "        ds[country][date] = 0\n",
    "        \n",
    "for row in covid_19_confirmed.iterrows():\n",
    "    name = row[1]['Country/Region']\n",
    "\n",
    "    if name not in ds:\n",
    "        print('\\'{0}\\' not in map'.format(name))\n",
    "        continue\n",
    "    \n",
    "    for date in sample_dates:\n",
    "        ds[name][date] = sum(covid_19_confirmed.loc[covid_19_confirmed['Country/Region']==name, date])\n",
    "    "
   ]
  },
  {
   "cell_type": "code",
   "execution_count": null,
   "metadata": {},
   "outputs": [],
   "source": [
    "from pandas import DataFrame\n",
    "\n",
    "dd = dict()\n",
    "dd['name'] = covid_19_countries_in_map\n",
    "\n",
    "for date in sample_dates:\n",
    "    dd[date] = list([0] * len(dd['name']))\n",
    "    \n",
    "    for i in range(len(dd['name'])):\n",
    "        dd[date][i] = ds[dd['name'][i]][date]\n",
    "\n",
    "covid_19_confirmed_in_map = DataFrame(data=dd)"
   ]
  },
  {
   "cell_type": "code",
   "execution_count": null,
   "metadata": {},
   "outputs": [],
   "source": [
    "covid_19_confirmed_in_map.loc[covid_19_confirmed_in_map['name']=='China']"
   ]
  },
  {
   "cell_type": "code",
   "execution_count": null,
   "metadata": {},
   "outputs": [],
   "source": [
    "from datetime import datetime\n",
    "import matplotlib.colors as colors\n",
    "import numpy as np\n",
    "\n",
    "def plot_map(ds, output_fig=False):\n",
    "    d = datetime.strptime(ds, '%Y-%m-%d')\n",
    "    sample_date = d.strftime(\"%#m/%#d/%y\")\n",
    "    \n",
    "    df = covid_19_confirmed_in_map.loc[:, ['name', sample_date]]\n",
    "    \n",
    "    map_with_covid_19 = map_wd.set_index('name').join(df.set_index('name'))\n",
    "    \n",
    "    vmin = 0\n",
    "    vmax = 1e+7\n",
    "    \n",
    "    fig, ax = plt.subplots(1, figsize=(20,15))\n",
    "    ax.axis('off')\n",
    "    ax.set_title(ds)\n",
    "    \n",
    "    #if use_lognorm:\n",
    "    #    fig = map_with_covid_19.plot(column=sample_date, cmap='Reds', linewidth=0.2, edgecolor='green', figsize=(30,30), legend=True, ax=ax, norm=colors.LogNorm(vmin=vmin, vmax=vmax), vmin=vmin, vmax=vmax)\n",
    "    #else:\n",
    "    #    fig = map_with_covid_19.plot(column=sample_date, cmap='Reds', linewidth=0.2, edgecolor='green', figsize=(30,30), legend=True, ax=ax, norm=plt.Normalize(vmin=vmin, vmax=vmax), vmin=vmin, vmax=vmax)\n",
    "    \n",
    "    \n",
    "    bounds = np.array([0, 1, 1e+1, 1e+2, 1e+3, 1e+4, 1e+5, 1e+6, 1e+7])\n",
    "    norm = colors.BoundaryNorm(boundaries=bounds, ncolors=256)\n",
    "    \n",
    "    fig = map_with_covid_19.plot(column=sample_date, cmap='Reds', linewidth=0.2, edgecolor='black', legend=True, ax=ax, norm=norm, vmin=vmin, vmax=vmax)\n",
    "\n",
    "    #ax.legend(shadow=True, fancybox=True)\n",
    "    \n",
    "    if output_fig:\n",
    "        plt.savefig('c:/tmp/fig/World_{0}.png'.format(ds))\n",
    "  "
   ]
  },
  {
   "cell_type": "code",
   "execution_count": null,
   "metadata": {},
   "outputs": [],
   "source": [
    "plot_map('2020-1-22', True)"
   ]
  },
  {
   "cell_type": "code",
   "execution_count": null,
   "metadata": {},
   "outputs": [],
   "source": [
    "plot_map('2020-2-22', True)"
   ]
  },
  {
   "cell_type": "code",
   "execution_count": null,
   "metadata": {},
   "outputs": [],
   "source": [
    "plot_map('2020-3-22', True)"
   ]
  },
  {
   "cell_type": "code",
   "execution_count": null,
   "metadata": {},
   "outputs": [],
   "source": [
    "plot_map('2020-4-22', True)"
   ]
  },
  {
   "cell_type": "code",
   "execution_count": null,
   "metadata": {},
   "outputs": [],
   "source": [
    "plot_map('2020-5-22', True)"
   ]
  },
  {
   "cell_type": "code",
   "execution_count": null,
   "metadata": {},
   "outputs": [],
   "source": [
    "plot_map('2020-6-22', True)"
   ]
  },
  {
   "cell_type": "code",
   "execution_count": null,
   "metadata": {},
   "outputs": [],
   "source": [
    "plot_map('2020-7-22', True)"
   ]
  },
  {
   "cell_type": "code",
   "execution_count": null,
   "metadata": {},
   "outputs": [],
   "source": [
    "plot_map('2020-8-22', True)"
   ]
  },
  {
   "cell_type": "code",
   "execution_count": null,
   "metadata": {},
   "outputs": [],
   "source": [
    "plot_map('2020-9-22', True)"
   ]
  },
  {
   "cell_type": "code",
   "execution_count": null,
   "metadata": {},
   "outputs": [],
   "source": []
  }
 ],
 "metadata": {
  "kernelspec": {
   "display_name": "Python 3",
   "language": "python",
   "name": "python3"
  },
  "language_info": {
   "codemirror_mode": {
    "name": "ipython",
    "version": 3
   },
   "file_extension": ".py",
   "mimetype": "text/x-python",
   "name": "python",
   "nbconvert_exporter": "python",
   "pygments_lexer": "ipython3",
   "version": "3.7.9"
  }
 },
 "nbformat": 4,
 "nbformat_minor": 4
}
