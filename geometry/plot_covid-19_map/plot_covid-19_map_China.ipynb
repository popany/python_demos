{
 "cells": [
  {
   "cell_type": "code",
   "execution_count": null,
   "metadata": {},
   "outputs": [],
   "source": [
    "import geopandas as gpd"
   ]
  },
  {
   "cell_type": "code",
   "execution_count": null,
   "metadata": {},
   "outputs": [],
   "source": [
    "# http://www.resdc.cn/data.aspx?DATAID=200\n",
    "map_cn = gpd.read_file('../map_of_China/sheng/CN-sheng-A.shp')"
   ]
  },
  {
   "cell_type": "code",
   "execution_count": null,
   "metadata": {},
   "outputs": [],
   "source": [
    "map_cn.head()"
   ]
  },
  {
   "cell_type": "code",
   "execution_count": null,
   "metadata": {},
   "outputs": [],
   "source": [
    "import matplotlib.pyplot as plt"
   ]
  },
  {
   "cell_type": "code",
   "execution_count": null,
   "metadata": {},
   "outputs": [],
   "source": [
    "fig, ax = plt.subplots()\n",
    "vmin, vmax = 0, 1e+12\n",
    "fig = map_cn.plot(column='AREA', cmap='Reds', linewidth=0.5, edgecolor='black', figsize=(10,10), legend=True, ax=ax, norm=plt.Normalize(vmin=vmin, vmax=vmax), vmin=vmin, vmax=vmax)"
   ]
  },
  {
   "cell_type": "code",
   "execution_count": null,
   "metadata": {
    "scrolled": false
   },
   "outputs": [],
   "source": [
    "map_cn.query('not name.isnull()') # name 缺少\"香港\"/\"澳门\""
   ]
  },
  {
   "cell_type": "code",
   "execution_count": null,
   "metadata": {},
   "outputs": [],
   "source": [
    "sheng_map = dict()\n",
    "for row in map_cn.iterrows():\n",
    "    sheng_name = row[1]['name']\n",
    "    if type(sheng_name) is str:  # 有省名称的数据行\n",
    "        sheng_map[sheng_name] = row[1]\n",
    "        \n",
    "print('\\n'.join(sheng_map.keys()))\n",
    "print(len(sheng_map))"
   ]
  },
  {
   "cell_type": "code",
   "execution_count": null,
   "metadata": {},
   "outputs": [],
   "source": [
    "sheng_id = dict()\n",
    "for name in sheng_map:\n",
    "    id = sheng_map[name]['SHENG']  # 整型\n",
    "    sheng_id[id] = name  # 可对应到省名的'SHENG'\n",
    "\n",
    "no_named_ad = set()\n",
    "for row in map_cn.iterrows():\n",
    "    id = row[1]['SHENG']\n",
    "    if id not in sheng_id:\n",
    "        no_named_ad.add(id)  # 不可对应到省名的'SHENG', 即为\"香港\"/\"澳门\"\n",
    "\n",
    "assert(len(no_named_ad) == 2)\n",
    "assert(81 in no_named_ad)  # 'SHENG' == 81 代表香港\n",
    "assert(82 in no_named_ad)  # 'SHENG' == 82 代表澳门\n",
    "print(*list(no_named_ad))"
   ]
  },
  {
   "cell_type": "code",
   "execution_count": null,
   "metadata": {},
   "outputs": [],
   "source": [
    "xianggang_map = map_cn.loc[map_cn['SHENG']==81, :]\n",
    "aomen_map = map_cn.loc[map_cn['SHENG']==82, :]\n",
    "guangdong_map = map_cn.loc[map_cn['SHENG']==44, :]"
   ]
  },
  {
   "cell_type": "code",
   "execution_count": null,
   "metadata": {},
   "outputs": [],
   "source": [
    "fig, ax = plt.subplots()\n",
    "vmin, vmax = 0, 1e+12\n",
    "fig = xianggang_map.plot(column='AREA', cmap='Reds', linewidth=0.5, edgecolor='black', figsize=(10,10), legend=True, ax=ax, norm=plt.Normalize(vmin=vmin, vmax=vmax), vmin=vmin, vmax=vmax)"
   ]
  },
  {
   "cell_type": "code",
   "execution_count": null,
   "metadata": {},
   "outputs": [],
   "source": [
    "fig, ax = plt.subplots()\n",
    "vmin, vmax = 0, 1e+12\n",
    "fig = aomen_map.plot(column='AREA', cmap='Reds', linewidth=0.5, edgecolor='black', figsize=(10,10), legend=True, ax=ax, norm=plt.Normalize(vmin=vmin, vmax=vmax), vmin=vmin, vmax=vmax)"
   ]
  },
  {
   "cell_type": "code",
   "execution_count": null,
   "metadata": {},
   "outputs": [],
   "source": [
    "fig, ax = plt.subplots()\n",
    "vmin, vmax = 0, 1e+12\n",
    "fig = guangdong_map.plot(column='AREA', cmap='Reds', linewidth=0.5, edgecolor='black', figsize=(10,10), legend=True, ax=ax, norm=plt.Normalize(vmin=vmin, vmax=vmax), vmin=vmin, vmax=vmax)"
   ]
  },
  {
   "cell_type": "code",
   "execution_count": null,
   "metadata": {},
   "outputs": [],
   "source": [
    "import pandas as pd"
   ]
  },
  {
   "cell_type": "code",
   "execution_count": null,
   "metadata": {},
   "outputs": [],
   "source": [
    "# https://github.com/CSSEGISandData/COVID-19\n",
    "covid_19_confirmed = pd.read_csv('../COVID-19_data/csse_covid_19_time_series/time_series_covid19_confirmed_global.csv')"
   ]
  },
  {
   "cell_type": "code",
   "execution_count": null,
   "metadata": {},
   "outputs": [],
   "source": [
    "covid_19_confirmed.head()"
   ]
  },
  {
   "cell_type": "code",
   "execution_count": null,
   "metadata": {},
   "outputs": [],
   "source": [
    "covid_19_confirmed.query('`Country/Region`==\"China\"')"
   ]
  },
  {
   "cell_type": "code",
   "execution_count": null,
   "metadata": {},
   "outputs": [],
   "source": [
    "covid_19_confirmed.head()\n",
    "\n",
    "covid_19_confirmed.loc[(covid_19_confirmed['Country/Region'] == 'Taiwan*'),'Province/State']='Taiwan'\n",
    "covid_19_confirmed.loc[(covid_19_confirmed['Country/Region'] == 'Taiwan*'),'Country/Region']='China'\n",
    "\n",
    "covid_19_confirmed[covid_19_confirmed['Country/Region'] == 'China']"
   ]
  },
  {
   "cell_type": "code",
   "execution_count": null,
   "metadata": {},
   "outputs": [],
   "source": [
    "sheng_name_to_id = {\n",
    "    'Beijing': 11,\n",
    "    'Tianjin': 12,\n",
    "    'Hebei': 13,\n",
    "    'Shanxi': 14,\n",
    "    'Inner Mongolia': 15,\n",
    "    'Liaoning': 21,\n",
    "    'Jilin': 22,\n",
    "    'Heilongjiang': 23,\n",
    "    'Shanghai': 31,\n",
    "    'Jiangsu': 32,\n",
    "    'Zhejiang': 33,\n",
    "    'Anhui': 34,\n",
    "    'Fujian': 35,\n",
    "    'Jiangxi': 36,\n",
    "    'Shandong': 37,\n",
    "    'Henan': 41,\n",
    "    'Hubei': 42,\n",
    "    'Hunan': 43,\n",
    "    'Guangdong': 44,\n",
    "    'Guangxi': 45,\n",
    "    'Hainan': 46,\n",
    "    'Chongqing': 50,\n",
    "    'Sichuan': 51,\n",
    "    'Guizhou': 52,\n",
    "    'Yunnan': 53,\n",
    "    'Tibet': 54,\n",
    "    'Shaanxi': 61,\n",
    "    'Gansu': 62,\n",
    "    'Qinghai': 63,\n",
    "    'Ningxia': 64,\n",
    "    'Xinjiang': 65,\n",
    "    'Taiwan': 71,\n",
    "    'Hong Kong': 81,\n",
    "    'Macau': 82\n",
    "}"
   ]
  },
  {
   "cell_type": "code",
   "execution_count": null,
   "metadata": {},
   "outputs": [],
   "source": [
    "covid_19_confirmed_China = covid_19_confirmed[covid_19_confirmed['Country/Region'] == 'China']"
   ]
  },
  {
   "cell_type": "code",
   "execution_count": null,
   "metadata": {},
   "outputs": [],
   "source": [
    "for row in covid_19_confirmed_China.iterrows():\n",
    "    name = row[1]['Province/State']\n",
    "    assert(name in sheng_name_to_id)"
   ]
  },
  {
   "cell_type": "code",
   "execution_count": null,
   "metadata": {},
   "outputs": [],
   "source": [
    "from datetime import datetime\n",
    "import matplotlib.colors as colors\n",
    "\n",
    "\n",
    "def plot_map(ds, use_lognorm=False):\n",
    "    d = datetime.strptime(ds, '%Y-%m-%d')\n",
    "    sample_date = d.strftime(\"%#m/%#d/%y\")\n",
    "    \n",
    "    df = covid_19_confirmed_China.loc[:, ['Province/State', sample_date]]\n",
    "    df['province_id'] = [sheng_name_to_id[w[1]['Province/State']] for w in df.iterrows()]\n",
    "    \n",
    "    map_with_covid_19 = map_cn.set_index('SHENG').join(df.set_index('province_id'))\n",
    "    \n",
    "    vmin = 1\n",
    "    # vmax = map_with_covid_19.max()[sample_date]\n",
    "    vmax = 100000\n",
    "    \n",
    "    fig, ax = plt.subplots(1, figsize=(20,15))\n",
    "    ax.axis('off')\n",
    "    ax.set_title(ds)\n",
    "    \n",
    "    if use_lognorm:\n",
    "        fig = map_with_covid_19.plot(column=sample_date, cmap='Reds', linewidth=0.2, edgecolor='black', figsize=(30,30), legend=True, ax=ax, norm=colors.LogNorm(vmin=vmin, vmax=vmax), vmin=vmin, vmax=vmax)\n",
    "    else:\n",
    "        fig = map_with_covid_19.plot(column=sample_date, cmap='Reds', linewidth=0.2, edgecolor='black', figsize=(30,30), legend=True, ax=ax, norm=plt.Normalize(vmin=vmin, vmax=vmax), vmin=vmin, vmax=vmax)\n",
    "        \n",
    "    plt.savefig('c:/tmp/fig/China_{0}.png'.format(ds))"
   ]
  },
  {
   "cell_type": "code",
   "execution_count": null,
   "metadata": {},
   "outputs": [],
   "source": [
    "plot_map('2020-1-22', True)"
   ]
  },
  {
   "cell_type": "code",
   "execution_count": null,
   "metadata": {},
   "outputs": [],
   "source": [
    "plot_map('2020-2-22', True)"
   ]
  },
  {
   "cell_type": "code",
   "execution_count": null,
   "metadata": {},
   "outputs": [],
   "source": [
    "plot_map('2020-3-22', True)"
   ]
  },
  {
   "cell_type": "code",
   "execution_count": null,
   "metadata": {},
   "outputs": [],
   "source": [
    "plot_map('2020-4-22', True)"
   ]
  },
  {
   "cell_type": "code",
   "execution_count": null,
   "metadata": {},
   "outputs": [],
   "source": [
    "plot_map('2020-5-22', True)"
   ]
  },
  {
   "cell_type": "code",
   "execution_count": null,
   "metadata": {},
   "outputs": [],
   "source": [
    "plot_map('2020-6-22', True)"
   ]
  },
  {
   "cell_type": "code",
   "execution_count": null,
   "metadata": {},
   "outputs": [],
   "source": [
    "plot_map('2020-7-22', True)"
   ]
  },
  {
   "cell_type": "code",
   "execution_count": null,
   "metadata": {},
   "outputs": [],
   "source": [
    "plot_map('2020-8-22', True)"
   ]
  },
  {
   "cell_type": "code",
   "execution_count": null,
   "metadata": {},
   "outputs": [],
   "source": [
    "plot_map('2020-9-22', True)"
   ]
  },
  {
   "cell_type": "code",
   "execution_count": null,
   "metadata": {},
   "outputs": [],
   "source": []
  }
 ],
 "metadata": {
  "kernelspec": {
   "display_name": "Python 3",
   "language": "python",
   "name": "python3"
  },
  "language_info": {
   "codemirror_mode": {
    "name": "ipython",
    "version": 3
   },
   "file_extension": ".py",
   "mimetype": "text/x-python",
   "name": "python",
   "nbconvert_exporter": "python",
   "pygments_lexer": "ipython3",
   "version": "3.7.9"
  }
 },
 "nbformat": 4,
 "nbformat_minor": 4
}
