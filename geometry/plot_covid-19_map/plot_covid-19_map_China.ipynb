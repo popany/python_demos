{
 "cells": [
  {
   "cell_type": "code",
   "execution_count": null,
   "metadata": {},
   "outputs": [],
   "source": [
    "import geopandas as gpd"
   ]
  },
  {
   "cell_type": "code",
   "execution_count": null,
   "metadata": {},
   "outputs": [],
   "source": [
    "# http://www.resdc.cn/data.aspx?DATAID=200\n",
    "map_cn = gpd.read_file('../map_of_China/sheng/CN-sheng-A.shp')"
   ]
  },
  {
   "cell_type": "code",
   "execution_count": null,
   "metadata": {},
   "outputs": [],
   "source": [
    "map_cn.head()"
   ]
  },
  {
   "cell_type": "code",
   "execution_count": null,
   "metadata": {},
   "outputs": [],
   "source": [
    "import matplotlib.pyplot as plt"
   ]
  },
  {
   "cell_type": "code",
   "execution_count": null,
   "metadata": {},
   "outputs": [],
   "source": [
    "fig, ax = plt.subplots()\n",
    "vmin, vmax = 0, 1e+12\n",
    "map_cn.plot(column='AREA', cmap='Reds', linewidth=0.5, edgecolor='black', figsize=(10,10), legend=True, ax=ax, norm=plt.Normalize(vmin=vmin, vmax=vmax), vmin=vmin, vmax=vmax)"
   ]
  },
  {
   "cell_type": "code",
   "execution_count": null,
   "metadata": {
    "scrolled": false
   },
   "outputs": [],
   "source": [
    "map_cn.query('not name.isnull()') # name 缺少\"香港\"/\"澳门\""
   ]
  },
  {
   "cell_type": "code",
   "execution_count": null,
   "metadata": {},
   "outputs": [],
   "source": [
    "sheng_map = dict()\n",
    "for row in map_cn.iterrows():\n",
    "    sheng_name = row[1]['name']\n",
    "    if type(sheng_name) is str:  # 有省名称的数据行\n",
    "        sheng_map[sheng_name] = row[1]\n",
    "        \n",
    "print('\\n'.join(sheng_map.keys()))\n",
    "print(len(sheng_map))"
   ]
  },
  {
   "cell_type": "code",
   "execution_count": null,
   "metadata": {},
   "outputs": [],
   "source": [
    "sheng_id = dict()\n",
    "for name in sheng_map:\n",
    "    id = sheng_map[name]['SHENG']  # 整型\n",
    "    sheng_id[id] = name  # 可对应到省名的'SHENG'\n",
    "\n",
    "no_named_ad = set()\n",
    "for row in map_cn.iterrows():\n",
    "    id = row[1]['SHENG']\n",
    "    if id not in sheng_id:\n",
    "        no_named_ad.add(id)  # 不可对应到省名的'SHENG', 即为\"香港\"/\"澳门\"\n",
    "\n",
    "assert(len(no_named_ad) == 2)\n",
    "assert(81 in no_named_ad)  # 'SHENG' == 81 代表香港\n",
    "assert(82 in no_named_ad)  # 'SHENG' == 82 代表澳门\n",
    "print(*list(no_named_ad))"
   ]
  },
  {
   "cell_type": "code",
   "execution_count": null,
   "metadata": {},
   "outputs": [],
   "source": [
    "xianggang_map = map_cn.loc[map_cn['SHENG']==81, :]\n",
    "aomen_map = map_cn.loc[map_cn['SHENG']==82, :]\n",
    "guangdong_map = map_cn.loc[map_cn['SHENG']==44, :]"
   ]
  },
  {
   "cell_type": "code",
   "execution_count": null,
   "metadata": {},
   "outputs": [],
   "source": [
    "fig, ax = plt.subplots()\n",
    "vmin, vmax = 0, 1e+12\n",
    "xianggang_map.plot(column='AREA', cmap='Reds', linewidth=0.5, edgecolor='black', figsize=(10,10), legend=True, ax=ax, norm=plt.Normalize(vmin=vmin, vmax=vmax), vmin=vmin, vmax=vmax)"
   ]
  },
  {
   "cell_type": "code",
   "execution_count": null,
   "metadata": {},
   "outputs": [],
   "source": [
    "fig, ax = plt.subplots()\n",
    "vmin, vmax = 0, 1e+12\n",
    "aomen_map.plot(column='AREA', cmap='Reds', linewidth=0.5, edgecolor='black', figsize=(10,10), legend=True, ax=ax, norm=plt.Normalize(vmin=vmin, vmax=vmax), vmin=vmin, vmax=vmax)"
   ]
  },
  {
   "cell_type": "code",
   "execution_count": null,
   "metadata": {},
   "outputs": [],
   "source": [
    "fig, ax = plt.subplots()\n",
    "vmin, vmax = 0, 1e+12\n",
    "guangdong_map.plot(column='AREA', cmap='Reds', linewidth=0.5, edgecolor='black', figsize=(10,10), legend=True, ax=ax, norm=plt.Normalize(vmin=vmin, vmax=vmax), vmin=vmin, vmax=vmax)"
   ]
  },
  {
   "cell_type": "code",
   "execution_count": null,
   "metadata": {},
   "outputs": [],
   "source": [
    "import pandas as pd"
   ]
  },
  {
   "cell_type": "code",
   "execution_count": null,
   "metadata": {},
   "outputs": [],
   "source": [
    "# https://github.com/CSSEGISandData/COVID-19\n",
    "covid_19_confirmed = pd.read_csv('../COVID-19_data/csse_covid_19_time_series/time_series_covid19_confirmed_global.csv')"
   ]
  },
  {
   "cell_type": "code",
   "execution_count": null,
   "metadata": {},
   "outputs": [],
   "source": [
    "covid_19_confirmed.head()"
   ]
  },
  {
   "cell_type": "code",
   "execution_count": null,
   "metadata": {},
   "outputs": [],
   "source": [
    "covid_19_confirmed.query('`Country/Region`==\"China\"')"
   ]
  },
  {
   "cell_type": "code",
   "execution_count": null,
   "metadata": {},
   "outputs": [],
   "source": [
    "covid_19_confirmed.head()\n",
    "\n",
    "covid_19_confirmed.loc[(covid_19_confirmed['Country/Region'] == 'Taiwan*'),'Province/State']='Taiwan'\n",
    "covid_19_confirmed.loc[(covid_19_confirmed['Country/Region'] == 'Taiwan*'),'Country/Region']='China'\n",
    "\n",
    "covid_19_confirmed[covid_19_confirmed['Country/Region'] == 'China']"
   ]
  },
  {
   "cell_type": "code",
   "execution_count": null,
   "metadata": {},
   "outputs": [],
   "source": [
    "sheng_name_to_id = {\n",
    "    'Beijing': 11,\n",
    "    'Tianjin': 12,\n",
    "    'Hebei': 13,\n",
    "    'Shanxi': 14,\n",
    "    'Inner Mongolia': 15,\n",
    "    'Liaoning': 21,\n",
    "    'Jilin': 22,\n",
    "    'Heilongjiang': 23,\n",
    "    'Shanghai': 31,\n",
    "    'Jiangsu': 32,\n",
    "    'Zhejiang': 33,\n",
    "    'Anhui': 34,\n",
    "    'Fujian': 35,\n",
    "    'Jiangxi': 36,\n",
    "    'Shandong': 37,\n",
    "    'Henan': 41,\n",
    "    'Hubei': 42,\n",
    "    'Hunan': 43,\n",
    "    'Guangdong': 44,\n",
    "    'Guangxi': 45,\n",
    "    'Hainan': 46,\n",
    "    'Chongqing': 50,\n",
    "    'Sichuan': 51,\n",
    "    'Guizhou': 52,\n",
    "    'Yunnan': 53,\n",
    "    'Tibet': 54,\n",
    "    'Shaanxi': 61,\n",
    "    'Gansu': 62,\n",
    "    'Qinghai': 63,\n",
    "    'Ningxia': 64,\n",
    "    'Xinjiang': 65,\n",
    "    'Taiwan': 71,\n",
    "    'Hong Kong': 81,\n",
    "    'Macau': 82\n",
    "}"
   ]
  },
  {
   "cell_type": "code",
   "execution_count": null,
   "metadata": {},
   "outputs": [],
   "source": [
    "covid_19_confirmed_China = covid_19_confirmed[covid_19_confirmed['Country/Region'] == 'China']"
   ]
  },
  {
   "cell_type": "code",
   "execution_count": null,
   "metadata": {},
   "outputs": [],
   "source": [
    "for row in covid_19_confirmed_China.iterrows():\n",
    "    name = row[1]['Province/State']\n",
    "    assert(name in sheng_name_to_id)"
   ]
  },
  {
   "cell_type": "code",
   "execution_count": null,
   "metadata": {},
   "outputs": [],
   "source": [
    "from datetime import datetime\n",
    "import matplotlib.colors as colors\n",
    "\n",
    "def plot_normalize(ds, output_fig=True):\n",
    "    d = datetime.strptime(ds, '%Y-%m-%d')\n",
    "    sample_date = d.strftime(\"%#m/%#d/%y\")\n",
    "    \n",
    "    df = covid_19_confirmed_China.loc[:, ['Province/State', sample_date]]\n",
    "    df['province_id'] = [sheng_name_to_id[w[1]['Province/State']] for w in df.iterrows()]\n",
    "    \n",
    "    map_with_covid_19 = map_cn.set_index('SHENG').join(df.set_index('province_id'))\n",
    "    \n",
    "    vmin = 1\n",
    "    vmax = 100000\n",
    "    \n",
    "    fig, ax = plt.subplots(1, figsize=(20,15))\n",
    "    ax.axis('off')\n",
    "    ax.set_title(ds)\n",
    "    \n",
    "    map_with_covid_19.plot(column=sample_date, cmap='Reds', linewidth=0.2, edgecolor='black', figsize=(30,30), legend=True, ax=ax, norm=plt.Normalize(vmin=vmin, vmax=vmax), vmin=vmin, vmax=vmax)\n",
    "    \n",
    "    if output_fig:\n",
    "        plt.savefig('c:/tmp/fig/China_{0}.png'.format(ds))"
   ]
  },
  {
   "cell_type": "code",
   "execution_count": null,
   "metadata": {},
   "outputs": [],
   "source": [
    "plot_normalize('2020-2-22', False)"
   ]
  },
  {
   "cell_type": "code",
   "execution_count": null,
   "metadata": {},
   "outputs": [],
   "source": [
    "from datetime import datetime\n",
    "import matplotlib.colors as colors\n",
    "\n",
    "def plot_lognorm(ds, output_fig=True):\n",
    "    d = datetime.strptime(ds, '%Y-%m-%d')\n",
    "    sample_date = d.strftime(\"%#m/%#d/%y\")\n",
    "    \n",
    "    df = covid_19_confirmed_China.loc[:, ['Province/State', sample_date]]\n",
    "    df['province_id'] = [sheng_name_to_id[w[1]['Province/State']] for w in df.iterrows()]\n",
    "    \n",
    "    map_with_covid_19 = map_cn.set_index('SHENG').join(df.set_index('province_id'))\n",
    "    \n",
    "    vmin = 1\n",
    "    vmax = 100000\n",
    "    \n",
    "    fig, ax = plt.subplots(1, figsize=(20,15))\n",
    "    ax.axis('off')\n",
    "    ax.set_title(ds)\n",
    "    \n",
    "    map_with_covid_19.plot(column=sample_date, cmap='Reds', linewidth=0.2, edgecolor='black', figsize=(30,30), legend=True, ax=ax, norm=colors.LogNorm(vmin=vmin, vmax=vmax), vmin=vmin, vmax=vmax)\n",
    "\n",
    "    if output_fig:\n",
    "        plt.savefig('c:/tmp/fig/China_{0}.png'.format(ds))"
   ]
  },
  {
   "cell_type": "code",
   "execution_count": null,
   "metadata": {},
   "outputs": [],
   "source": [
    "plot_lognorm('2020-2-22', False)"
   ]
  },
  {
   "cell_type": "code",
   "execution_count": null,
   "metadata": {},
   "outputs": [],
   "source": [
    "from datetime import datetime\n",
    "import matplotlib.colors as colors\n",
    "import matplotlib.cm as cm\n",
    "import numpy as np\n",
    "\n",
    "def plot_map_colorbar(ds, output_fig=True):\n",
    "    d = datetime.strptime(ds, '%Y-%m-%d')\n",
    "    sample_date = d.strftime(\"%#m/%#d/%y\")\n",
    "    \n",
    "    df = covid_19_confirmed_China.loc[:, ['Province/State', sample_date]]\n",
    "    df['province_id'] = [sheng_name_to_id[w[1]['Province/State']] for w in df.iterrows()]\n",
    "    \n",
    "    map_with_covid_19 = map_cn.set_index('SHENG').join(df.set_index('province_id'))\n",
    "    \n",
    "    vmin = 0\n",
    "    vmax = 1e+5\n",
    "    \n",
    "    fig, ax = plt.subplots(1, figsize=(20,15))\n",
    "    ax.axis('off')\n",
    "    ax.set_title(ds)\n",
    "    \n",
    "    bounds = np.array([0, 1, 1e+1, 50, 1e+2, 1e+3, 1e+4, 1e+5])\n",
    "    norm = colors.BoundaryNorm(boundaries=bounds, ncolors=256)\n",
    "    \n",
    "    map_with_covid_19.plot(column=sample_date, cmap='Reds', linewidth=0.2, edgecolor='black', ax=ax, norm=norm, vmin=vmin, vmax=vmax)\n",
    "\n",
    "    cb = fig.colorbar(cm.ScalarMappable(norm=norm, cmap='Reds'), ax=ax)\n",
    "    cb.set_ticklabels(['0', '1', '10-49', '50-99', '100-999', '10000-99999', '>=100000'])\n",
    "    \n",
    "    if output_fig:\n",
    "        plt.savefig('c:/tmp/fig/China_{0}.png'.format(ds))"
   ]
  },
  {
   "cell_type": "code",
   "execution_count": null,
   "metadata": {},
   "outputs": [],
   "source": [
    "plot_map_colorbar('2020-1-22', False)"
   ]
  },
  {
   "cell_type": "code",
   "execution_count": null,
   "metadata": {},
   "outputs": [],
   "source": [
    "from datetime import datetime\n",
    "import matplotlib.colors as colors\n",
    "import matplotlib.cm as cm\n",
    "import matplotlib.patches as mpatches\n",
    "import numpy as np\n",
    "\n",
    "import matplotlib.pyplot as plt\n",
    "plt.rcParams['font.family'] = 'sans-serif'  \n",
    "plt.rcParams['font.sans-serif'] = 'SimSun,Times New Roman'# 中文设置成宋体，除此之外的字体设置成New Roman  \n",
    "\n",
    "def plot_map_legend(ds, output_fig=True):\n",
    "    d = datetime.strptime(ds, '%Y-%m-%d')\n",
    "    sample_date = d.strftime(\"%#m/%#d/%y\")\n",
    "    \n",
    "    df = covid_19_confirmed_China.loc[:, ['Province/State', sample_date]]\n",
    "    df['province_id'] = [sheng_name_to_id[w[1]['Province/State']] for w in df.iterrows()]\n",
    "    \n",
    "    map_with_covid_19 = map_cn.set_index('SHENG').join(df.set_index('province_id'))\n",
    "    \n",
    "    vmin = 0\n",
    "    vmax = 1e+5\n",
    "    \n",
    "    fig, ax = plt.subplots(1, figsize=(15,15))\n",
    "    ax.axis('off')\n",
    "    ax.set_title(ds)\n",
    "    \n",
    "    bounds = np.array([0, 1, 1e+1, 50, 1e+2, 1e+3, 1e+4, 1e+5])\n",
    "    norm = colors.BoundaryNorm(boundaries=bounds, ncolors=256)\n",
    "    \n",
    "    map_with_covid_19.plot(column=sample_date, cmap='Reds', linewidth=0.2, edgecolor='black', ax=ax, norm=norm, vmin=vmin, vmax=vmax)\n",
    "\n",
    "    rgba = cm.ScalarMappable(norm=norm, cmap='Reds').to_rgba(bounds)\n",
    "    handles = [mpatches.Patch(color=c) for c in rgba]\n",
    "    \n",
    "    labels = ['0', '1-9', '10-49', '50-99', '100-999', '1000-9999', '≥10000']\n",
    "    leg = fig.legend(handles=handles, labels=labels, fontsize=14, title='图例（单位：人）', title_fontsize=14, loc=(0.12,0.24))\n",
    "    \n",
    "    if output_fig:\n",
    "        plt.savefig('c:/tmp/fig/China_{0}.png'.format(ds))"
   ]
  },
  {
   "cell_type": "code",
   "execution_count": null,
   "metadata": {
    "scrolled": false
   },
   "outputs": [],
   "source": [
    "plot_map_legend('2020-1-22', True)"
   ]
  },
  {
   "cell_type": "code",
   "execution_count": null,
   "metadata": {
    "scrolled": false
   },
   "outputs": [],
   "source": [
    "plot_map_legend('2020-1-22', True)"
   ]
  },
  {
   "cell_type": "code",
   "execution_count": null,
   "metadata": {},
   "outputs": [],
   "source": [
    "plot_map_legend('2020-2-22', True)"
   ]
  },
  {
   "cell_type": "code",
   "execution_count": null,
   "metadata": {},
   "outputs": [],
   "source": [
    "plot_map_legend('2020-3-22', True)"
   ]
  },
  {
   "cell_type": "code",
   "execution_count": null,
   "metadata": {
    "scrolled": true
   },
   "outputs": [],
   "source": [
    "plot_map_legend('2020-4-22', True)"
   ]
  },
  {
   "cell_type": "code",
   "execution_count": null,
   "metadata": {},
   "outputs": [],
   "source": [
    "plot_map_legend('2020-5-22', True)"
   ]
  },
  {
   "cell_type": "code",
   "execution_count": null,
   "metadata": {},
   "outputs": [],
   "source": [
    "plot_map_legend('2020-6-22', True)"
   ]
  },
  {
   "cell_type": "code",
   "execution_count": null,
   "metadata": {},
   "outputs": [],
   "source": [
    "plot_map_legend('2020-7-22', True)"
   ]
  },
  {
   "cell_type": "code",
   "execution_count": null,
   "metadata": {},
   "outputs": [],
   "source": [
    "plot_map_legend('2020-8-22', True)"
   ]
  },
  {
   "cell_type": "code",
   "execution_count": null,
   "metadata": {},
   "outputs": [],
   "source": [
    "plot_map_legend('2020-9-22', True)"
   ]
  }
 ],
 "metadata": {
  "kernelspec": {
   "display_name": "Python 3",
   "language": "python",
   "name": "python3"
  },
  "language_info": {
   "codemirror_mode": {
    "name": "ipython",
    "version": 3
   },
   "file_extension": ".py",
   "mimetype": "text/x-python",
   "name": "python",
   "nbconvert_exporter": "python",
   "pygments_lexer": "ipython3",
   "version": "3.7.9"
  }
 },
 "nbformat": 4,
 "nbformat_minor": 4
}
