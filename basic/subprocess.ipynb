{
 "cells": [
  {
   "cell_type": "code",
   "execution_count": 1,
   "metadata": {},
   "outputs": [],
   "source": [
    "import subprocess"
   ]
  },
  {
   "cell_type": "code",
   "execution_count": 32,
   "metadata": {},
   "outputs": [
    {
     "name": "stdout",
     "output_type": "stream",
     "text": [
      "total 14\n",
      "drwxr-xr-x 1 jingyuan.xue 1049089    0  5月 11 22:20 .\n",
      "drwxr-xr-x 1 jingyuan.xue 1049089    0  5月 11 22:01 ..\n",
      "drwxr-xr-x 1 jingyuan.xue 1049089    0  5月 11 22:02 .ipynb_checkpoints\n",
      "-rw-r--r-- 1 jingyuan.xue 1049089  423  2月  5 22:40 date_time.py\n",
      "-rw-r--r-- 1 jingyuan.xue 1049089  117  2月  5 16:29 sorted.py\n",
      "-rw-r--r-- 1 jingyuan.xue 1049089 1887  5月 11 22:20 subprocess.ipynb\n",
      "\n",
      "None\n",
      "0\n"
     ]
    }
   ],
   "source": [
    "# Run command and capture output\n",
    "# Using universal_newlines=True converts the output to a string instead of a byte array.\n",
    "# run() returns a CompletedProcess object if it was successful\n",
    "# errors in the created process are raised here too\n",
    "process = subprocess.run(['ls', '-al'], check=True, stdout=subprocess.PIPE, universal_newlines=True, encoding='utf-8')\n",
    "output = process.stdout\n",
    "print(output)\n",
    "print(process.stderr)\n",
    "print(process.returncode)"
   ]
  },
  {
   "cell_type": "code",
   "execution_count": null,
   "metadata": {},
   "outputs": [],
   "source": []
  }
 ],
 "metadata": {
  "kernelspec": {
   "display_name": "Python 3",
   "language": "python",
   "name": "python3"
  },
  "language_info": {
   "codemirror_mode": {
    "name": "ipython",
    "version": 3
   },
   "file_extension": ".py",
   "mimetype": "text/x-python",
   "name": "python",
   "nbconvert_exporter": "python",
   "pygments_lexer": "ipython3",
   "version": "3.7.4"
  }
 },
 "nbformat": 4,
 "nbformat_minor": 2
}
