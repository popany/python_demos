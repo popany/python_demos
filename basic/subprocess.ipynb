{
 "cells": [
  {
   "cell_type": "code",
   "execution_count": 1,
   "metadata": {},
   "outputs": [],
   "source": [
    "import subprocess"
   ]
  },
  {
   "cell_type": "code",
   "execution_count": 2,
   "metadata": {},
   "outputs": [
    {
     "name": "stdout",
     "output_type": "stream",
     "text": [
      "total 14\n",
      "drwxr-xr-x 1 jingyuan.xue 1049089    0  5月 12 17:04 .\n",
      "drwxr-xr-x 1 jingyuan.xue 1049089    0  5月 11 22:01 ..\n",
      "drwxr-xr-x 1 jingyuan.xue 1049089    0  5月 11 22:02 .ipynb_checkpoints\n",
      "-rw-r--r-- 1 jingyuan.xue 1049089  423  2月  5 22:40 date_time.py\n",
      "-rw-r--r-- 1 jingyuan.xue 1049089  117  2月  5 16:29 sorted.py\n",
      "-rw-r--r-- 1 jingyuan.xue 1049089 1749  5月 12 17:04 subprocess.ipynb\n",
      "\n",
      "None\n",
      "0\n"
     ]
    }
   ],
   "source": [
    "# Run command and capture output\n",
    "# Using universal_newlines=True converts the output to a string instead of a byte array.\n",
    "# run() returns a CompletedProcess object if it was successful\n",
    "# errors in the created process are raised here too\n",
    "process = subprocess.run(['ls', '-al'], check=True, stdout=subprocess.PIPE, universal_newlines=True, encoding='utf-8')\n",
    "output = process.stdout\n",
    "print(output)\n",
    "print(process.stderr)\n",
    "print(process.returncode)"
   ]
  },
  {
   "cell_type": "code",
   "execution_count": 20,
   "metadata": {},
   "outputs": [
    {
     "name": "stdout",
     "output_type": "stream",
     "text": [
      "hello\n"
     ]
    }
   ],
   "source": [
    "from subprocess import Popen, PIPE\n",
    "session = Popen([\"echo\", \"hello\"], shell=True, stdin=PIPE, stdout=PIPE, stderr=PIPE)\n",
    "print(session.communicate()[0].decode('utf-8').strip())\n"
   ]
  },
  {
   "cell_type": "code",
   "execution_count": 27,
   "metadata": {},
   "outputs": [
    {
     "name": "stdout",
     "output_type": "stream",
     "text": [
      "Microsoft Windows [版本 10.0.18363.778]\r\n",
      "(c) 2019 Microsoft Corporation。保留所有权利。\r\n",
      "\r\n",
      "C:\\demo\\demos\\python_demos\\basic>dir\n",
      " 驱动器 C 中的卷是 Windows\r\n",
      " 卷的序列号是 9A95-D39F\r\n",
      "\r\n",
      " C:\\demo\\demos\\python_demos\\basic 的目录\r\n",
      "\r\n",
      "2020/05/12  17:18    <DIR>          .\r\n",
      "2020/05/12  17:18    <DIR>          ..\r\n",
      "2020/05/11  22:02    <DIR>          .ipynb_checkpoints\r\n",
      "2020/02/05  22:40               423 date_time.py\r\n",
      "2020/02/05  16:29               117 sorted.py\r\n",
      "2020/05/12  17:18             2,495 subprocess.ipynb\r\n",
      "               3 个文件          3,035 字节\r\n",
      "               3 个目录  7,745,568,768 可用字节\r\n",
      "\r\n",
      "C:\\demo\\demos\\python_demos\\basic>ls\n",
      "date_time.py\n",
      "sorted.py\n",
      "subprocess.ipynb\n",
      "\r\n",
      "C:\\demo\\demos\\python_demos\\basic>\n"
     ]
    }
   ],
   "source": [
    "from subprocess import Popen, PIPE\n",
    "session = Popen([\"cmd\"], shell=True, stdin=PIPE, stdout=PIPE, stderr=PIPE)\n",
    "session.stdin.write(b'dir\\n')\n",
    "session.stdin.write(b'ls\\n')\n",
    "print(session.communicate()[0].decode('gbk').strip())"
   ]
  },
  {
   "cell_type": "code",
   "execution_count": null,
   "metadata": {},
   "outputs": [],
   "source": []
  }
 ],
 "metadata": {
  "kernelspec": {
   "display_name": "Python 3",
   "language": "python",
   "name": "python3"
  },
  "language_info": {
   "codemirror_mode": {
    "name": "ipython",
    "version": 3
   },
   "file_extension": ".py",
   "mimetype": "text/x-python",
   "name": "python",
   "nbconvert_exporter": "python",
   "pygments_lexer": "ipython3",
   "version": "3.7.4"
  }
 },
 "nbformat": 4,
 "nbformat_minor": 2
}
