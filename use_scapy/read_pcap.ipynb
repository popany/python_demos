{
 "cells": [
  {
   "cell_type": "code",
   "execution_count": null,
   "metadata": {},
   "outputs": [],
   "source": [
    "from scapy.all import *"
   ]
  },
  {
   "cell_type": "code",
   "execution_count": null,
   "metadata": {
    "scrolled": true
   },
   "outputs": [],
   "source": [
    "packets = rdpcap('test.pcap')"
   ]
  },
  {
   "cell_type": "code",
   "execution_count": null,
   "metadata": {},
   "outputs": [],
   "source": [
    "len(packets)"
   ]
  },
  {
   "cell_type": "code",
   "execution_count": null,
   "metadata": {},
   "outputs": [],
   "source": [
    "packets[2].show()"
   ]
  },
  {
   "cell_type": "code",
   "execution_count": null,
   "metadata": {},
   "outputs": [],
   "source": [
    "hexdump(packets[2])"
   ]
  },
  {
   "cell_type": "code",
   "execution_count": null,
   "metadata": {},
   "outputs": [],
   "source": [
    "ls(packets[2])"
   ]
  },
  {
   "cell_type": "code",
   "execution_count": null,
   "metadata": {},
   "outputs": [],
   "source": [
    "packets[2].summary()"
   ]
  },
  {
   "cell_type": "code",
   "execution_count": null,
   "metadata": {},
   "outputs": [],
   "source": [
    "packets[2].lastlayer()"
   ]
  },
  {
   "cell_type": "code",
   "execution_count": null,
   "metadata": {},
   "outputs": [],
   "source": [
    "packets[2].layers()"
   ]
  },
  {
   "cell_type": "code",
   "execution_count": null,
   "metadata": {},
   "outputs": [],
   "source": [
    "packets[2].haslayer(TCP)"
   ]
  },
  {
   "cell_type": "code",
   "execution_count": null,
   "metadata": {},
   "outputs": [],
   "source": [
    "packets[2].getlayer(TCP)"
   ]
  },
  {
   "cell_type": "code",
   "execution_count": null,
   "metadata": {},
   "outputs": [],
   "source": [
    "packets[2].getlayer(TCP).payload"
   ]
  },
  {
   "cell_type": "code",
   "execution_count": null,
   "metadata": {},
   "outputs": [],
   "source": [
    "bytes(packets[2].getlayer(TCP).payload)"
   ]
  },
  {
   "cell_type": "code",
   "execution_count": null,
   "metadata": {},
   "outputs": [],
   "source": [
    "len(packets[2].getlayer(TCP).payload)"
   ]
  },
  {
   "cell_type": "code",
   "execution_count": null,
   "metadata": {},
   "outputs": [],
   "source": [
    "packets[1].getlayer(Raw)"
   ]
  },
  {
   "cell_type": "code",
   "execution_count": null,
   "metadata": {},
   "outputs": [],
   "source": [
    "packets[1].getlayer(Padding)"
   ]
  },
  {
   "cell_type": "code",
   "execution_count": null,
   "metadata": {},
   "outputs": [],
   "source": [
    "packets[2].getlayer(TCP).fields"
   ]
  },
  {
   "cell_type": "code",
   "execution_count": null,
   "metadata": {},
   "outputs": [],
   "source": [
    "packets[2].getlayer(Ether).fields"
   ]
  },
  {
   "cell_type": "code",
   "execution_count": null,
   "metadata": {},
   "outputs": [],
   "source": [
    "# get all tcp packet sent to port 49600, exclude SYC packet and none data packet\n",
    "\n",
    "dst_port = 49600\n",
    "\n",
    "tcp_packets = list()\n",
    "\n",
    "for packet in packets:\n",
    "    if not packet.haslayer(TCP):\n",
    "        continue\n",
    "        \n",
    "    if packet.getlayer(TCP).fields['dport'] != dst_port:\n",
    "        continue\n",
    "        \n",
    "    if packet.getlayer(TCP).fields['flags'] & 0x02 == 0x02: # exclude SYN packet\n",
    "        continue\n",
    "        \n",
    "    if not packet.haslayer(Raw): # exclude none data packet\n",
    "        continue\n",
    "        \n",
    "    tcp_packets.append(packet.getlayer(TCP))\n"
   ]
  },
  {
   "cell_type": "code",
   "execution_count": null,
   "metadata": {},
   "outputs": [],
   "source": [
    "tcp_packets = sorted(tcp_packets, key = lambda x : x.fields['seq'])"
   ]
  },
  {
   "cell_type": "code",
   "execution_count": null,
   "metadata": {},
   "outputs": [],
   "source": [
    "# check duplicate packet\n",
    "\n",
    "for i in range(0, len(tcp_packets)-1):\n",
    "    if tcp_packets[i].fields['seq'] == tcp_packets[i + 1].fields['seq']:\n",
    "        print('duplicate packet, i = {0}'.format(i))"
   ]
  },
  {
   "cell_type": "code",
   "execution_count": null,
   "metadata": {},
   "outputs": [],
   "source": [
    "# check lose packet\n",
    "\n",
    "for i in range(0, len(tcp_packets)-1):\n",
    "    next_seq = tcp_packets[i].fields['seq'] + len(tcp_packets[i].getlayer(Raw))\n",
    "    if tcp_packets[i].haslayer(Padding):\n",
    "        next_seq -= len(tcp_packets[i].getlayer(Padding))\n",
    "        \n",
    "    if next_seq != tcp_packets[i + 1].fields['seq']:\n",
    "        print('lose packet, i = {0}'.format(i))"
   ]
  },
  {
   "cell_type": "code",
   "execution_count": null,
   "metadata": {},
   "outputs": [],
   "source": []
  }
 ],
 "metadata": {
  "kernelspec": {
   "display_name": "Python 3",
   "language": "python",
   "name": "python3"
  },
  "language_info": {
   "codemirror_mode": {
    "name": "ipython",
    "version": 3
   },
   "file_extension": ".py",
   "mimetype": "text/x-python",
   "name": "python",
   "nbconvert_exporter": "python",
   "pygments_lexer": "ipython3",
   "version": "3.7.4"
  }
 },
 "nbformat": 4,
 "nbformat_minor": 2
}
