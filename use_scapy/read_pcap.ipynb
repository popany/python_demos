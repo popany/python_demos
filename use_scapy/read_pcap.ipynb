{
 "cells": [
  {
   "cell_type": "code",
   "execution_count": 1,
   "metadata": {},
   "outputs": [],
   "source": [
    "from scapy.all import *"
   ]
  },
  {
   "cell_type": "code",
   "execution_count": 3,
   "metadata": {
    "scrolled": true
   },
   "outputs": [],
   "source": [
    "packets = rdpcap('test.pcap')"
   ]
  },
  {
   "cell_type": "code",
   "execution_count": 6,
   "metadata": {},
   "outputs": [
    {
     "data": {
      "text/plain": [
       "332101"
      ]
     },
     "execution_count": 6,
     "metadata": {},
     "output_type": "execute_result"
    }
   ],
   "source": [
    "len(packets)"
   ]
  },
  {
   "cell_type": "code",
   "execution_count": 14,
   "metadata": {},
   "outputs": [
    {
     "name": "stdout",
     "output_type": "stream",
     "text": [
      "###[ Ethernet ]### \n",
      "  dst       = 98:fa:9b:ae:62:db\n",
      "  src       = b0:8b:cf:10:66:3f\n",
      "  type      = IPv4\n",
      "###[ IP ]### \n",
      "     version   = 4\n",
      "     ihl       = 5\n",
      "     tos       = 0x0\n",
      "     len       = 297\n",
      "     id        = 51930\n",
      "     flags     = DF\n",
      "     frag      = 0\n",
      "     ttl       = 62\n",
      "     proto     = tcp\n",
      "     chksum    = 0xcb6d\n",
      "     src       = 10.243.141.127\n",
      "     dst       = 10.254.2.23\n",
      "     \\options   \\\n",
      "###[ TCP ]### \n",
      "        sport     = 9129\n",
      "        dport     = 49600\n",
      "        seq       = 576266343\n",
      "        ack       = 623479434\n",
      "        dataofs   = 5\n",
      "        reserved  = 0\n",
      "        flags     = PA\n",
      "        window    = 229\n",
      "        chksum    = 0xd757\n",
      "        urgptr    = 0\n",
      "        options   = []\n",
      "###[ Raw ]### \n",
      "           load      = \"\\x00\\x00\\x00\\x01\\x00\\x00\\x00\\\\abcc-0127-8\\x00\\x00\\x00\\x00\\x00\\x00\\x00\\x00\\x00def\\x00\\x00\\x00\\x00\\x00\\x00\\x00\\x00\\x00\\x00\\x00\\x00\\x00\\x00\\x00\\x00\\x00\\x00\\x00\\x00\\n123\\x00\\x00\\x00\\x00\\x00\\x00\\x00\\x00\\x00\\x00\\x00\\x00\\x001.02\\x00\\x00\\x00\\x00\\x00\\x00\\x00\\x00\\x00\\x00\\x00\\x00\\x00\\x00\\x00\\x00\\x00\\x00\\x00\\x00\\x00\\x00\\x00\\x00\\x00\\x00\\x00\\x00\\x00\\x00\\x00\\xd2\\x00\\x00\\x00\\x03\\x00\\x00\\x00\\x00\\x00\\x00\\x00\\x03\\x00\\x04\\x94\\x9f\\x00\\x00\\x00B\\x07\\xde\\x00\\x00\\x00\\x00\\x00n\\x8bG011\\x00\\x00\\x00\\x00\\x00k\\x13\\xb7\\x00\\x00\\x00\\x00\\x00n\\x8bF002028  102 \\x00\\x00\\x00\\x00\\x00\\x03kd\\x00\\x00\\x00\\x00\\x00\\x00'\\x10F\\x00G\\xc4\\xb96\\x18*b\\x00\\x00\\x00\\xb0\\x00\\x04\\x94\\xa0\\x00\\x00\\x003\\x07\\xde\\x00\\x00\\x00\\x00\\x00n\\x8bH011002203  102 \\x00\\x00\\x00\\x00\\x00\\x01:\\xd8\\x00\\x00\\x00\\x00\\x00\\x00\\x9c@1\\x00G\\xc4\\xb96\\x18*b2\\x00\\x00\\x00-\"\n",
      "\n"
     ]
    }
   ],
   "source": [
    "packets[2].show()"
   ]
  },
  {
   "cell_type": "code",
   "execution_count": 16,
   "metadata": {},
   "outputs": [
    {
     "name": "stdout",
     "output_type": "stream",
     "text": [
      "0000  98 FA 9B AE 62 DB B0 8B CF 10 66 3F 08 00 45 00  ....b.....f?..E.\n",
      "0010  01 29 CA DA 40 00 3E 06 CB 6D 0A F3 8D 7F 0A FE  .)..@.>..m......\n",
      "0020  02 17 23 A9 C1 C0 22 59 20 67 25 29 8A 8A 50 18  ..#...\"Y g%)..P.\n",
      "0030  00 E5 D7 57 00 00 00 00 00 01 00 00 00 5C 61 62  ...W.........\\ab\n",
      "0040  63 63 2D 30 31 32 37 2D 38 00 00 00 00 00 00 00  cc-0127-8.......\n",
      "0050  00 00 64 65 66 00 00 00 00 00 00 00 00 00 00 00  ..def...........\n",
      "0060  00 00 00 00 00 00 00 00 00 0A 31 32 33 00 00 00  ..........123...\n",
      "0070  00 00 00 00 00 00 00 00 00 00 31 2E 30 32 00 00  ..........1.02..\n",
      "0080  00 00 00 00 00 00 00 00 00 00 00 00 00 00 00 00  ................\n",
      "0090  00 00 00 00 00 00 00 00 00 00 00 00 00 D2 00 00  ................\n",
      "00a0  00 03 00 00 00 00 00 00 00 03 00 04 94 9F 00 00  ................\n",
      "00b0  00 42 07 DE 00 00 00 00 00 6E 8B 47 30 31 31 00  .B.......n.G011.\n",
      "00c0  00 00 00 00 6B 13 B7 00 00 00 00 00 6E 8B 46 30  ....k.......n.F0\n",
      "00d0  30 32 30 32 38 20 20 31 30 32 20 00 00 00 00 00  02028  102 .....\n",
      "00e0  03 6B 64 00 00 00 00 00 00 27 10 46 00 47 C4 B9  .kd......'.F.G..\n",
      "00f0  36 18 2A 62 00 00 00 B0 00 04 94 A0 00 00 00 33  6.*b...........3\n",
      "0100  07 DE 00 00 00 00 00 6E 8B 48 30 31 31 30 30 32  .......n.H011002\n",
      "0110  32 30 33 20 20 31 30 32 20 00 00 00 00 00 01 3A  203  102 ......:\n",
      "0120  D8 00 00 00 00 00 00 9C 40 31 00 47 C4 B9 36 18  ........@1.G..6.\n",
      "0130  2A 62 32 00 00 00 2D                             *b2...-\n"
     ]
    }
   ],
   "source": [
    "hexdump(packets[2])"
   ]
  },
  {
   "cell_type": "code",
   "execution_count": 18,
   "metadata": {},
   "outputs": [
    {
     "name": "stdout",
     "output_type": "stream",
     "text": [
      "dst        : DestMACField                        = '98:fa:9b:ae:62:db' (None)\n",
      "src        : SourceMACField                      = 'b0:8b:cf:10:66:3f' (None)\n",
      "type       : XShortEnumField                     = 2048            (36864)\n",
      "--\n",
      "version    : BitField (4 bits)                   = 4               (4)\n",
      "ihl        : BitField (4 bits)                   = 5               (None)\n",
      "tos        : XByteField                          = 0               (0)\n",
      "len        : ShortField                          = 297             (None)\n",
      "id         : ShortField                          = 51930           (1)\n",
      "flags      : FlagsField (3 bits)                 = <Flag 2 (DF)>   (<Flag 0 ()>)\n",
      "frag       : BitField (13 bits)                  = 0               (0)\n",
      "ttl        : ByteField                           = 62              (64)\n",
      "proto      : ByteEnumField                       = 6               (0)\n",
      "chksum     : XShortField                         = 52077           (None)\n",
      "src        : SourceIPField                       = '10.243.141.127' (None)\n",
      "dst        : DestIPField                         = '10.254.2.23'   (None)\n",
      "options    : PacketListField                     = []              ([])\n",
      "--\n",
      "sport      : ShortEnumField                      = 9129            (20)\n",
      "dport      : ShortEnumField                      = 49600           (80)\n",
      "seq        : IntField                            = 576266343       (0)\n",
      "ack        : IntField                            = 623479434       (0)\n",
      "dataofs    : BitField (4 bits)                   = 5               (None)\n",
      "reserved   : BitField (3 bits)                   = 0               (0)\n",
      "flags      : FlagsField (9 bits)                 = <Flag 24 (PA)>  (<Flag 2 (S)>)\n",
      "window     : ShortField                          = 229             (8192)\n",
      "chksum     : XShortField                         = 55127           (None)\n",
      "urgptr     : ShortField                          = 0               (0)\n",
      "options    : TCPOptionsField                     = []              (b'')\n",
      "--\n",
      "load       : StrField                            = b\"\\x00\\x00\\x00\\x01\\x00\\x00\\x00\\\\abcc-0127-8\\x00\\x00\\x00\\x00\\x00\\x00\\x00\\x00\\x00def\\x00\\x00\\x00\\x00\\x00\\x00\\x00\\x00\\x00\\x00\\x00\\x00\\x00\\x00\\x00\\x00\\x00\\x00\\x00\\x00\\n123\\x00\\x00\\x00\\x00\\x00\\x00\\x00\\x00\\x00\\x00\\x00\\x00\\x001.02\\x00\\x00\\x00\\x00\\x00\\x00\\x00\\x00\\x00\\x00\\x00\\x00\\x00\\x00\\x00\\x00\\x00\\x00\\x00\\x00\\x00\\x00\\x00\\x00\\x00\\x00\\x00\\x00\\x00\\x00\\x00\\xd2\\x00\\x00\\x00\\x03\\x00\\x00\\x00\\x00\\x00\\x00\\x00\\x03\\x00\\x04\\x94\\x9f\\x00\\x00\\x00B\\x07\\xde\\x00\\x00\\x00\\x00\\x00n\\x8bG011\\x00\\x00\\x00\\x00\\x00k\\x13\\xb7\\x00\\x00\\x00\\x00\\x00n\\x8bF002028  102 \\x00\\x00\\x00\\x00\\x00\\x03kd\\x00\\x00\\x00\\x00\\x00\\x00'\\x10F\\x00G\\xc4\\xb96\\x18*b\\x00\\x00\\x00\\xb0\\x00\\x04\\x94\\xa0\\x00\\x00\\x003\\x07\\xde\\x00\\x00\\x00\\x00\\x00n\\x8bH011002203  102 \\x00\\x00\\x00\\x00\\x00\\x01:\\xd8\\x00\\x00\\x00\\x00\\x00\\x00\\x9c@1\\x00G\\xc4\\xb96\\x18*b2\\x00\\x00\\x00-\" (b'')\n"
     ]
    }
   ],
   "source": [
    "ls(packets[2])"
   ]
  },
  {
   "cell_type": "code",
   "execution_count": 19,
   "metadata": {},
   "outputs": [
    {
     "data": {
      "text/plain": [
       "'Ether / IP / TCP 10.243.141.127:9129 > 10.254.2.23:49600 PA / Raw'"
      ]
     },
     "execution_count": 19,
     "metadata": {},
     "output_type": "execute_result"
    }
   ],
   "source": [
    "packets[2].summary()"
   ]
  },
  {
   "cell_type": "code",
   "execution_count": 23,
   "metadata": {},
   "outputs": [
    {
     "data": {
      "text/plain": [
       "<Raw  load=\"\\x00\\x00\\x00\\x01\\x00\\x00\\x00\\\\abcc-0127-8\\x00\\x00\\x00\\x00\\x00\\x00\\x00\\x00\\x00def\\x00\\x00\\x00\\x00\\x00\\x00\\x00\\x00\\x00\\x00\\x00\\x00\\x00\\x00\\x00\\x00\\x00\\x00\\x00\\x00\\n123\\x00\\x00\\x00\\x00\\x00\\x00\\x00\\x00\\x00\\x00\\x00\\x00\\x001.02\\x00\\x00\\x00\\x00\\x00\\x00\\x00\\x00\\x00\\x00\\x00\\x00\\x00\\x00\\x00\\x00\\x00\\x00\\x00\\x00\\x00\\x00\\x00\\x00\\x00\\x00\\x00\\x00\\x00\\x00\\x00\\xd2\\x00\\x00\\x00\\x03\\x00\\x00\\x00\\x00\\x00\\x00\\x00\\x03\\x00\\x04\\x94\\x9f\\x00\\x00\\x00B\\x07\\xde\\x00\\x00\\x00\\x00\\x00n\\x8bG011\\x00\\x00\\x00\\x00\\x00k\\x13\\xb7\\x00\\x00\\x00\\x00\\x00n\\x8bF002028  102 \\x00\\x00\\x00\\x00\\x00\\x03kd\\x00\\x00\\x00\\x00\\x00\\x00'\\x10F\\x00G\\xc4\\xb96\\x18*b\\x00\\x00\\x00\\xb0\\x00\\x04\\x94\\xa0\\x00\\x00\\x003\\x07\\xde\\x00\\x00\\x00\\x00\\x00n\\x8bH011002203  102 \\x00\\x00\\x00\\x00\\x00\\x01:\\xd8\\x00\\x00\\x00\\x00\\x00\\x00\\x9c@1\\x00G\\xc4\\xb96\\x18*b2\\x00\\x00\\x00-\" |>"
      ]
     },
     "execution_count": 23,
     "metadata": {},
     "output_type": "execute_result"
    }
   ],
   "source": [
    "packets[2].lastlayer()"
   ]
  },
  {
   "cell_type": "code",
   "execution_count": 28,
   "metadata": {},
   "outputs": [
    {
     "data": {
      "text/plain": [
       "[scapy.layers.l2.Ether,\n",
       " scapy.layers.inet.IP,\n",
       " scapy.layers.inet.TCP,\n",
       " scapy.packet.Raw]"
      ]
     },
     "execution_count": 28,
     "metadata": {},
     "output_type": "execute_result"
    }
   ],
   "source": [
    "packets[2].layers()"
   ]
  },
  {
   "cell_type": "code",
   "execution_count": 30,
   "metadata": {},
   "outputs": [
    {
     "data": {
      "text/plain": [
       "True"
      ]
     },
     "execution_count": 30,
     "metadata": {},
     "output_type": "execute_result"
    }
   ],
   "source": [
    "packets[2].haslayer(TCP)"
   ]
  },
  {
   "cell_type": "code",
   "execution_count": 36,
   "metadata": {},
   "outputs": [
    {
     "data": {
      "text/plain": [
       "<TCP  sport=9129 dport=49600 seq=576266343 ack=623479434 dataofs=5 reserved=0 flags=PA window=229 chksum=0xd757 urgptr=0 |<Raw  load=\"\\x00\\x00\\x00\\x01\\x00\\x00\\x00\\\\abcc-0127-8\\x00\\x00\\x00\\x00\\x00\\x00\\x00\\x00\\x00def\\x00\\x00\\x00\\x00\\x00\\x00\\x00\\x00\\x00\\x00\\x00\\x00\\x00\\x00\\x00\\x00\\x00\\x00\\x00\\x00\\n123\\x00\\x00\\x00\\x00\\x00\\x00\\x00\\x00\\x00\\x00\\x00\\x00\\x001.02\\x00\\x00\\x00\\x00\\x00\\x00\\x00\\x00\\x00\\x00\\x00\\x00\\x00\\x00\\x00\\x00\\x00\\x00\\x00\\x00\\x00\\x00\\x00\\x00\\x00\\x00\\x00\\x00\\x00\\x00\\x00\\xd2\\x00\\x00\\x00\\x03\\x00\\x00\\x00\\x00\\x00\\x00\\x00\\x03\\x00\\x04\\x94\\x9f\\x00\\x00\\x00B\\x07\\xde\\x00\\x00\\x00\\x00\\x00n\\x8bG011\\x00\\x00\\x00\\x00\\x00k\\x13\\xb7\\x00\\x00\\x00\\x00\\x00n\\x8bF002028  102 \\x00\\x00\\x00\\x00\\x00\\x03kd\\x00\\x00\\x00\\x00\\x00\\x00'\\x10F\\x00G\\xc4\\xb96\\x18*b\\x00\\x00\\x00\\xb0\\x00\\x04\\x94\\xa0\\x00\\x00\\x003\\x07\\xde\\x00\\x00\\x00\\x00\\x00n\\x8bH011002203  102 \\x00\\x00\\x00\\x00\\x00\\x01:\\xd8\\x00\\x00\\x00\\x00\\x00\\x00\\x9c@1\\x00G\\xc4\\xb96\\x18*b2\\x00\\x00\\x00-\" |>>"
      ]
     },
     "execution_count": 36,
     "metadata": {},
     "output_type": "execute_result"
    }
   ],
   "source": [
    "packets[2].getlayer(TCP)"
   ]
  },
  {
   "cell_type": "code",
   "execution_count": 37,
   "metadata": {},
   "outputs": [
    {
     "data": {
      "text/plain": [
       "<Raw  load=\"\\x00\\x00\\x00\\x01\\x00\\x00\\x00\\\\abcc-0127-8\\x00\\x00\\x00\\x00\\x00\\x00\\x00\\x00\\x00def\\x00\\x00\\x00\\x00\\x00\\x00\\x00\\x00\\x00\\x00\\x00\\x00\\x00\\x00\\x00\\x00\\x00\\x00\\x00\\x00\\n123\\x00\\x00\\x00\\x00\\x00\\x00\\x00\\x00\\x00\\x00\\x00\\x00\\x001.02\\x00\\x00\\x00\\x00\\x00\\x00\\x00\\x00\\x00\\x00\\x00\\x00\\x00\\x00\\x00\\x00\\x00\\x00\\x00\\x00\\x00\\x00\\x00\\x00\\x00\\x00\\x00\\x00\\x00\\x00\\x00\\xd2\\x00\\x00\\x00\\x03\\x00\\x00\\x00\\x00\\x00\\x00\\x00\\x03\\x00\\x04\\x94\\x9f\\x00\\x00\\x00B\\x07\\xde\\x00\\x00\\x00\\x00\\x00n\\x8bG011\\x00\\x00\\x00\\x00\\x00k\\x13\\xb7\\x00\\x00\\x00\\x00\\x00n\\x8bF002028  102 \\x00\\x00\\x00\\x00\\x00\\x03kd\\x00\\x00\\x00\\x00\\x00\\x00'\\x10F\\x00G\\xc4\\xb96\\x18*b\\x00\\x00\\x00\\xb0\\x00\\x04\\x94\\xa0\\x00\\x00\\x003\\x07\\xde\\x00\\x00\\x00\\x00\\x00n\\x8bH011002203  102 \\x00\\x00\\x00\\x00\\x00\\x01:\\xd8\\x00\\x00\\x00\\x00\\x00\\x00\\x9c@1\\x00G\\xc4\\xb96\\x18*b2\\x00\\x00\\x00-\" |>"
      ]
     },
     "execution_count": 37,
     "metadata": {},
     "output_type": "execute_result"
    }
   ],
   "source": [
    "packets[2].getlayer(TCP).payload"
   ]
  },
  {
   "cell_type": "code",
   "execution_count": 38,
   "metadata": {},
   "outputs": [
    {
     "data": {
      "text/plain": [
       "b\"\\x00\\x00\\x00\\x01\\x00\\x00\\x00\\\\abcc-0127-8\\x00\\x00\\x00\\x00\\x00\\x00\\x00\\x00\\x00def\\x00\\x00\\x00\\x00\\x00\\x00\\x00\\x00\\x00\\x00\\x00\\x00\\x00\\x00\\x00\\x00\\x00\\x00\\x00\\x00\\n123\\x00\\x00\\x00\\x00\\x00\\x00\\x00\\x00\\x00\\x00\\x00\\x00\\x001.02\\x00\\x00\\x00\\x00\\x00\\x00\\x00\\x00\\x00\\x00\\x00\\x00\\x00\\x00\\x00\\x00\\x00\\x00\\x00\\x00\\x00\\x00\\x00\\x00\\x00\\x00\\x00\\x00\\x00\\x00\\x00\\xd2\\x00\\x00\\x00\\x03\\x00\\x00\\x00\\x00\\x00\\x00\\x00\\x03\\x00\\x04\\x94\\x9f\\x00\\x00\\x00B\\x07\\xde\\x00\\x00\\x00\\x00\\x00n\\x8bG011\\x00\\x00\\x00\\x00\\x00k\\x13\\xb7\\x00\\x00\\x00\\x00\\x00n\\x8bF002028  102 \\x00\\x00\\x00\\x00\\x00\\x03kd\\x00\\x00\\x00\\x00\\x00\\x00'\\x10F\\x00G\\xc4\\xb96\\x18*b\\x00\\x00\\x00\\xb0\\x00\\x04\\x94\\xa0\\x00\\x00\\x003\\x07\\xde\\x00\\x00\\x00\\x00\\x00n\\x8bH011002203  102 \\x00\\x00\\x00\\x00\\x00\\x01:\\xd8\\x00\\x00\\x00\\x00\\x00\\x00\\x9c@1\\x00G\\xc4\\xb96\\x18*b2\\x00\\x00\\x00-\""
      ]
     },
     "execution_count": 38,
     "metadata": {},
     "output_type": "execute_result"
    }
   ],
   "source": [
    "bytes(packets[2].getlayer(TCP).payload)"
   ]
  },
  {
   "cell_type": "code",
   "execution_count": 70,
   "metadata": {},
   "outputs": [
    {
     "data": {
      "text/plain": [
       "257"
      ]
     },
     "execution_count": 70,
     "metadata": {},
     "output_type": "execute_result"
    }
   ],
   "source": [
    "len(packets[2].getlayer(TCP).payload)"
   ]
  },
  {
   "cell_type": "code",
   "execution_count": 82,
   "metadata": {},
   "outputs": [],
   "source": [
    "packets[1].getlayer(Raw)"
   ]
  },
  {
   "cell_type": "code",
   "execution_count": 81,
   "metadata": {},
   "outputs": [
    {
     "data": {
      "text/plain": [
       "<Padding  load='\\x00\\x00\\x00\\x00\\x00\\x00' |>"
      ]
     },
     "execution_count": 81,
     "metadata": {},
     "output_type": "execute_result"
    }
   ],
   "source": [
    "packets[1].getlayer(Padding)"
   ]
  },
  {
   "cell_type": "code",
   "execution_count": 42,
   "metadata": {},
   "outputs": [
    {
     "data": {
      "text/plain": [
       "{'sport': 9129,\n",
       " 'dport': 49600,\n",
       " 'seq': 576266343,\n",
       " 'ack': 623479434,\n",
       " 'dataofs': 5,\n",
       " 'reserved': 0,\n",
       " 'flags': <Flag 24 (PA)>,\n",
       " 'window': 229,\n",
       " 'chksum': 55127,\n",
       " 'urgptr': 0,\n",
       " 'options': []}"
      ]
     },
     "execution_count": 42,
     "metadata": {},
     "output_type": "execute_result"
    }
   ],
   "source": [
    "packets[2].getlayer(TCP).fields"
   ]
  },
  {
   "cell_type": "code",
   "execution_count": 69,
   "metadata": {},
   "outputs": [
    {
     "data": {
      "text/plain": [
       "{'dst': '98:fa:9b:ae:62:db', 'src': 'b0:8b:cf:10:66:3f', 'type': 2048}"
      ]
     },
     "execution_count": 69,
     "metadata": {},
     "output_type": "execute_result"
    }
   ],
   "source": [
    "packets[2].getlayer(Ether).fields"
   ]
  },
  {
   "cell_type": "code",
   "execution_count": 109,
   "metadata": {},
   "outputs": [],
   "source": [
    "# get all tcp packet sent to port 49600, exclude SYC packet and none data packet\n",
    "\n",
    "dst_port = 49600\n",
    "\n",
    "tcp_packets = list()\n",
    "\n",
    "for packet in packets:\n",
    "    if not packet.haslayer(TCP):\n",
    "        continue\n",
    "        \n",
    "    if packet.getlayer(TCP).fields['dport'] != dst_port:\n",
    "        continue\n",
    "        \n",
    "    if packet.getlayer(TCP).fields['flags'] & 0x02 == 0x02: # exclude SYN packet\n",
    "        continue\n",
    "        \n",
    "    if not packet.haslayer(Raw): # exclude none data packet\n",
    "        continue\n",
    "        \n",
    "    tcp_packets.append(packet.getlayer(TCP))\n"
   ]
  },
  {
   "cell_type": "code",
   "execution_count": 111,
   "metadata": {},
   "outputs": [],
   "source": [
    "tcp_packets = sorted(tcp_packets, key = lambda x : x.fields['seq'])"
   ]
  },
  {
   "cell_type": "code",
   "execution_count": 116,
   "metadata": {},
   "outputs": [],
   "source": [
    "# check duplicate packet\n",
    "\n",
    "for i in range(0, len(tcp_packets)-1):\n",
    "    if tcp_packets[i].fields['seq'] == tcp_packets[i + 1].fields['seq']:\n",
    "        print('duplicate packet, i = {0}'.format(i))\n",
    "        break"
   ]
  },
  {
   "cell_type": "code",
   "execution_count": 128,
   "metadata": {},
   "outputs": [],
   "source": [
    "# check lose packet\n",
    "\n",
    "for i in range(0, len(tcp_packets)-1):\n",
    "    next_seq = tcp_packets[i].fields['seq'] + len(tcp_packets[i].getlayer(Raw))\n",
    "    if tcp_packets[i].haslayer(Padding):\n",
    "        next_seq -= len(tcp_packets[i].getlayer(Padding))\n",
    "        \n",
    "    if next_seq != tcp_packets[i + 1].fields['seq']:\n",
    "        print('lose packet, i = {0}'.format(i))"
   ]
  },
  {
   "cell_type": "code",
   "execution_count": 80,
   "metadata": {},
   "outputs": [
    {
     "data": {
      "text/plain": [
       "<Padding  load='\\x00\\x00\\x00\\x00\\x00\\x00' |>"
      ]
     },
     "execution_count": 80,
     "metadata": {},
     "output_type": "execute_result"
    }
   ],
   "source": [
    "packets[1].getlayer(Padding)"
   ]
  },
  {
   "cell_type": "code",
   "execution_count": 108,
   "metadata": {},
   "outputs": [
    {
     "data": {
      "text/plain": [
       "True"
      ]
     },
     "execution_count": 108,
     "metadata": {},
     "output_type": "execute_result"
    }
   ],
   "source": [
    "not packets[1].haslayer(Raw)"
   ]
  },
  {
   "cell_type": "code",
   "execution_count": null,
   "metadata": {},
   "outputs": [],
   "source": []
  }
 ],
 "metadata": {
  "kernelspec": {
   "display_name": "Python 3",
   "language": "python",
   "name": "python3"
  },
  "language_info": {
   "codemirror_mode": {
    "name": "ipython",
    "version": 3
   },
   "file_extension": ".py",
   "mimetype": "text/x-python",
   "name": "python",
   "nbconvert_exporter": "python",
   "pygments_lexer": "ipython3",
   "version": "3.7.4"
  }
 },
 "nbformat": 4,
 "nbformat_minor": 2
}
